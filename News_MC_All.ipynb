{
 "cells": [
  {
   "cell_type": "code",
   "execution_count": 16,
   "id": "ca80affb-6d50-4139-ab8b-98ba4c5772ba",
   "metadata": {},
   "outputs": [
    {
     "ename": "ModuleNotFoundError",
     "evalue": "No module named 'selenium'",
     "output_type": "error",
     "traceback": [
      "\u001b[0;31m---------------------------------------------------------------------------\u001b[0m",
      "\u001b[0;31mModuleNotFoundError\u001b[0m                       Traceback (most recent call last)",
      "\u001b[0;32m<ipython-input-16-b6a196db0502>\u001b[0m in \u001b[0;36m<module>\u001b[0;34m\u001b[0m\n\u001b[1;32m     17\u001b[0m \u001b[0;32mimport\u001b[0m \u001b[0mmatplotlib\u001b[0m\u001b[0;34m.\u001b[0m\u001b[0mpyplot\u001b[0m \u001b[0;32mas\u001b[0m \u001b[0mplt\u001b[0m\u001b[0;34m\u001b[0m\u001b[0;34m\u001b[0m\u001b[0m\n\u001b[1;32m     18\u001b[0m \u001b[0;32mfrom\u001b[0m \u001b[0mmatplotlib\u001b[0m\u001b[0;34m.\u001b[0m\u001b[0mcollections\u001b[0m \u001b[0;32mimport\u001b[0m \u001b[0mLineCollection\u001b[0m\u001b[0;34m\u001b[0m\u001b[0;34m\u001b[0m\u001b[0m\n\u001b[0;32m---> 19\u001b[0;31m \u001b[0;32mimport\u001b[0m \u001b[0mselenium\u001b[0m\u001b[0;34m\u001b[0m\u001b[0;34m\u001b[0m\u001b[0m\n\u001b[0m\u001b[1;32m     20\u001b[0m \u001b[0;34m\u001b[0m\u001b[0m\n\u001b[1;32m     21\u001b[0m \u001b[0;32mimport\u001b[0m \u001b[0mwarnings\u001b[0m\u001b[0;34m\u001b[0m\u001b[0;34m\u001b[0m\u001b[0m\n",
      "\u001b[0;31mModuleNotFoundError\u001b[0m: No module named 'selenium'"
     ]
    }
   ],
   "source": [
    "import json\n",
    "import requests\n",
    "import pandas as pd\n",
    "from pathlib import Path\n",
    "import hvplot.pandas\n",
    "import panel as pn\n",
    "import holoviews as hv\n",
    "import numpy as np\n",
    "from pathlib import Path\n",
    "from sklearn import cluster, covariance, manifold\n",
    "from sklearn.preprocessing import MinMaxScaler\n",
    "from sklearn.cluster import KMeans\n",
    "from sklearn.preprocessing import StandardScaler\n",
    "from sklearn.decomposition import PCA\n",
    "import seaborn as sns\n",
    "import matplotlib.cm as cm\n",
    "import matplotlib.pyplot as plt\n",
    "from matplotlib.collections import LineCollection\n",
    "\n",
    "import warnings\n",
    "warnings.filterwarnings('ignore')\n"
   ]
  },
  {
   "cell_type": "code",
   "execution_count": 3,
   "id": "cb8427aa-bae0-4aef-b245-4b9ffdffcc58",
   "metadata": {},
   "outputs": [],
   "source": [
    "# Import positive news about institutional adoption\n",
    "events_inst_pos=pd.read_csv(\n",
    "    Path('Institutional_Adoption_Events_positive_in_2021.csv'),\n",
    "    index_col='DATE',\n",
    "    parse_dates=True,\n",
    "    infer_datetime_format=True\n",
    ")\n",
    "events_inst_pos=events_inst_pos.fillna(0)\n",
    "events_inst_pos=events_inst_pos[['Institutional Adopt']]\n",
    "events_inst_pos=events_inst_pos.rename(columns={'Institutional Adopt': 'Institutional Adopt Pos'})"
   ]
  },
  {
   "cell_type": "code",
   "execution_count": 4,
   "id": "6de5c763-50fc-44b3-afba-bddf697e915a",
   "metadata": {},
   "outputs": [],
   "source": [
    "# Import negative news about institutional adoption\n",
    "events_inst_neg=pd.read_csv(\n",
    "    Path('Institutional_Adoption_Events_negative_in_2021.csv'),\n",
    "    index_col='DATE',\n",
    "    parse_dates=True,\n",
    "    infer_datetime_format=True\n",
    ")\n",
    "events_inst_neg=events_inst_neg.fillna(0)\n",
    "events_inst_neg=events_inst_neg[['Institutional Adopt']]\n",
    "events_inst_neg=events_inst_neg.rename(columns={'Institutional Adopt': 'Institutional Adopt Neg'})"
   ]
  },
  {
   "cell_type": "code",
   "execution_count": 5,
   "id": "e4273b04-14a0-4dd9-a290-228a9b4d8bdb",
   "metadata": {},
   "outputs": [],
   "source": [
    "# Import China news\n",
    "events_china=pd.read_csv(\n",
    "    Path('China_events_2021.csv'),\n",
    "    index_col='DATE',\n",
    "    parse_dates=True,\n",
    "    infer_datetime_format=True\n",
    ")\n",
    "events_china=events_china.fillna(0)\n",
    "events_china=events_china[['INDICATOR']]"
   ]
  },
  {
   "cell_type": "code",
   "execution_count": 6,
   "id": "e5d0a6c7-5aa7-47a4-9b39-2751fee4f981",
   "metadata": {},
   "outputs": [],
   "source": [
    "# Import regulatory news\n",
    "events_regs=pd.read_csv(\n",
    "    Path('Regulation_events_2021.csv'),\n",
    "    index_col='DATE',\n",
    "    parse_dates=True,\n",
    "    infer_datetime_format=True\n",
    ")\n",
    "events_regs=events_regs.fillna(0)\n",
    "events_regs=events_regs[['Regulation']]"
   ]
  },
  {
   "cell_type": "code",
   "execution_count": 7,
   "id": "a41284df-1f17-47c7-a2c9-54a505de9ebb",
   "metadata": {},
   "outputs": [],
   "source": [
    "# Import market cap data from the Price_Analysis notebook\n",
    "mc=pd.read_csv(\n",
    "    Path('crypto_market_caps.csv'),\n",
    "    index_col='date',\n",
    "    parse_dates=True,\n",
    "    infer_datetime_format=True\n",
    ")\n",
    "#prices.sort_values(by='date')"
   ]
  },
  {
   "cell_type": "code",
   "execution_count": 8,
   "id": "f0e43f0a-089f-455c-b371-cea75ad1d7c1",
   "metadata": {},
   "outputs": [],
   "source": [
    "# Combine positive institutional news with prices\n",
    "combined_ins_pos=pd.merge(mc, events_inst_pos,left_index=True, right_index=True)"
   ]
  },
  {
   "cell_type": "code",
   "execution_count": 9,
   "id": "43a1294a-b9df-4a0e-83c3-714c6d8574d5",
   "metadata": {},
   "outputs": [],
   "source": [
    "# Combine negative institutional news with prices\n",
    "combined_ins_neg=pd.merge(mc, events_inst_neg, left_index=True, right_index=True)\n",
    "#combined_ins_neg.head()"
   ]
  },
  {
   "cell_type": "code",
   "execution_count": 10,
   "id": "4461c20d-61fe-4962-a7c6-8f65716241b5",
   "metadata": {},
   "outputs": [],
   "source": [
    "# Combine china news with prices\n",
    "combined_china=pd.merge(mc, events_china, left_index=True, right_index=True)\n",
    "#combined_china.head()"
   ]
  },
  {
   "cell_type": "code",
   "execution_count": 11,
   "id": "df4f17d6-38db-47a8-a77e-da7c78c3830a",
   "metadata": {},
   "outputs": [],
   "source": [
    "# Combine positive institutional news with prices\n",
    "combined_regs=pd.merge(mc, events_regs, left_index=True, right_index=True)\n",
    "#combined_regs.head()"
   ]
  },
  {
   "cell_type": "code",
   "execution_count": 12,
   "id": "0d63ea7c-4968-4abc-abfd-9b78ee2c5c6f",
   "metadata": {},
   "outputs": [],
   "source": [
    "def get_df(df):\n",
    "    '''\n",
    "    Prepare a dataframe for clustering analysis\n",
    "    \n",
    "    Argument: \n",
    "        df: A dataframe combining events and changes in market cap\n",
    "    \n",
    "            Options include:\n",
    "            - combined_ins_pos (Positive Institutional News)\n",
    "            - combined_ins_neg (Negative Institutional News)\n",
    "            - combined_china (China News)\n",
    "            - combined_regs (Regulatory News\n",
    "\n",
    "    Returns:\n",
    "        A dataframe with annual return and variance calculations\n",
    "        \n",
    "    \n",
    "    '''\n",
    "    \n",
    "    # Drop NaN in rows and columns\n",
    "    df = df.dropna(axis=0, how='all')\n",
    "    df = df.dropna(axis=1)\n",
    "    \n",
    "    # Remove last column with the new signals)\n",
    "    df = df.iloc[:, :-1]\n",
    "    \n",
    "    # List of column names\n",
    "    column_names = list(df)\n",
    "    \n",
    "    # Calculate mean and variance for each token\n",
    "    annual_returns = []\n",
    "    variance = []\n",
    "    \n",
    "    for x in column_names:\n",
    "        annual_returns.append(df[x].mean()*252)\n",
    "        variance.append(df[x].std()*np.sqrt(252))\n",
    "    \n",
    "    # New dataframe with returns and variance data\n",
    "    stats_df = pd.DataFrame([annual_returns,variance])\n",
    "    stats_df = stats_df.T\n",
    "    stats_df.columns = ('annual_return','variance')\n",
    "    stats_df.index = column_names\n",
    "\n",
    "    return stats_df"
   ]
  },
  {
   "cell_type": "code",
   "execution_count": 13,
   "id": "c7165170-d47b-4883-ad34-e77b1cdce1c1",
   "metadata": {},
   "outputs": [],
   "source": [
    "def get_elbow(df):\n",
    "    '''\n",
    "    Plot the elbow curve to select optimal k-values \n",
    "\n",
    "    Arguments: \n",
    "        df: A dataframe combining events and changes in market cap\n",
    "\n",
    "    Returns:\n",
    "        A plot with the elbow curve for the selected dataframe\n",
    "    \n",
    "    '''\n",
    "    \n",
    "    # Use get_df to retrieve the updated dataframe \n",
    "    stats_df = get_df(df)\n",
    "    \n",
    "    # Create a list to store inertia values and the values of k\n",
    "    inertia = []\n",
    "    k = list(range(1, 11))\n",
    "    \n",
    "    # Create a for-loop where each value of k is evaluated using the K-means algorithm\n",
    "    # Fit the model using the service_ratings DataFrame\n",
    "    # Append the value of the computed inertia from the `inertia_` attribute of the KMeans model instance\n",
    "    for i in k:\n",
    "        k_model = KMeans(n_clusters=i, random_state=1)\n",
    "        k_model.fit(stats_df)\n",
    "        inertia.append(k_model.inertia_)\n",
    "    \n",
    "    # Define a DataFrame to hold the values for k and the corresponding inertia\n",
    "    elbow_data = {\"k\": k, \"inertia\": inertia}\n",
    "    df_elbow = pd.DataFrame(elbow_data)\n",
    "    \n",
    "    # Plot the DataFrame\n",
    "    plot = df_elbow.hvplot.line(\n",
    "        x=\"k\", \n",
    "        y=\"inertia\", \n",
    "        title=\"Elbow Curve\",\n",
    "        xticks=k\n",
    "    )\n",
    "    \n",
    "    return plot"
   ]
  },
  {
   "cell_type": "code",
   "execution_count": 14,
   "id": "6fb35e24-eef2-4de8-9898-b2fd1892f4b8",
   "metadata": {},
   "outputs": [],
   "source": [
    "def get_kmeans_plot(df, k):\n",
    "    '''\n",
    "    Plot visualizing token clusters using the KMeans algorithm\n",
    "    \n",
    "    Arguments: \n",
    "        - df: A dataframe combining events and changes in market cap\n",
    "        - k: The number of clusters to use\n",
    "\n",
    "    Returns:\n",
    "        A plot clustering the tokens based on changes in valuation and news category\n",
    "    \n",
    "    '''\n",
    "    \n",
    "    stats_df = get_df(df)\n",
    "    \n",
    "    # Create and initialize the K-means model instance for 4 clusters\n",
    "    model = KMeans(n_clusters=k, random_state=1)\n",
    "    \n",
    "    # Fit the data to the instance of the model\n",
    "    model.fit(stats_df)\n",
    "\n",
    "    # Make predictions about the data clusters using the trained model\n",
    "    crypto_clusters = model.predict(stats_df)\n",
    "    \n",
    "    # Add predicted clusters to dataframe and create new column with token names\n",
    "    stats_df['crypto_cluster']=crypto_clusters\n",
    "    #stats_df['names']=column_names\n",
    "    \n",
    "    # Visualize cluster data in a pot\n",
    "    plot = stats_df.hvplot.scatter(x=\"annual_return\", y=\"variance\", by=\"crypto_cluster\",text='names',text_baseline='top',hover=True, hover_cols=['index'])\n",
    "    \n",
    "    return plot"
   ]
  },
  {
   "cell_type": "code",
   "execution_count": 17,
   "id": "f9ba1159-a007-4f97-8e74-2f961ae7b05f",
   "metadata": {},
   "outputs": [
    {
     "name": "stderr",
     "output_type": "stream",
     "text": [
      "WARNING:param.main: text option not found for scatter plot; similar options include: []\n",
      "WARNING:param.main: text_baseline option not found for scatter plot; similar options include: []\n"
     ]
    }
   ],
   "source": [
    "# China news clustering plot\n",
    "china_news = get_kmeans_plot(combined_china, 4)\n",
    "hvplot.save(china_news, 'china_news_scatter.html')"
   ]
  },
  {
   "cell_type": "code",
   "execution_count": 18,
   "id": "31e5b8c9-aca2-470c-80bc-f5afc882f114",
   "metadata": {},
   "outputs": [
    {
     "name": "stderr",
     "output_type": "stream",
     "text": [
      "WARNING:param.main: text option not found for scatter plot; similar options include: []\n",
      "WARNING:param.main: text_baseline option not found for scatter plot; similar options include: []\n"
     ]
    }
   ],
   "source": [
    "# Positive institutional news clustering plot\n",
    "positive_inst_news = get_kmeans_plot(combined_ins_pos, 4)\n",
    "hvplot.save(positive_inst_news, 'positive_inst_news_scatter.html')"
   ]
  },
  {
   "cell_type": "code",
   "execution_count": null,
   "id": "9b8b518a-82c9-49c0-b9bb-e44b8dbfd1f5",
   "metadata": {},
   "outputs": [],
   "source": [
    "# Negative institutional news clustering plot\n",
    "negative_inst_news = get_kmeans_plot(combined_ins_neg, 4)\n",
    "hvplot.save(negative_inst_news, 'negative_inst_news_scatter.ht"
   ]
  },
  {
   "cell_type": "code",
   "execution_count": null,
   "id": "fdc0e702-d29b-44cd-aa56-82ebbca76d99",
   "metadata": {},
   "outputs": [],
   "source": [
    "# Regulatory news clustering plot\n",
    "regulatory_news = get_kmeans_plot(combined_regs, 4)\n",
    "regulatory_news"
   ]
  },
  {
   "cell_type": "code",
   "execution_count": null,
   "id": "f737f020-ace6-4cc1-9c36-576202c98202",
   "metadata": {},
   "outputs": [],
   "source": []
  }
 ],
 "metadata": {
  "kernelspec": {
   "display_name": "Python 3",
   "language": "python",
   "name": "python3"
  },
  "language_info": {
   "codemirror_mode": {
    "name": "ipython",
    "version": 3
   },
   "file_extension": ".py",
   "mimetype": "text/x-python",
   "name": "python",
   "nbconvert_exporter": "python",
   "pygments_lexer": "ipython3",
   "version": "3.7.10"
  }
 },
 "nbformat": 4,
 "nbformat_minor": 5
}
