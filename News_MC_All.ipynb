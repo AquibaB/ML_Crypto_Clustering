{
 "cells": [
  {
   "cell_type": "code",
   "execution_count": 30,
   "id": "ca80affb-6d50-4139-ab8b-98ba4c5772ba",
   "metadata": {},
   "outputs": [],
   "source": [
    "import json\n",
    "import requests\n",
    "import pandas as pd\n",
    "from pathlib import Path\n",
    "import hvplot.pandas\n",
    "import panel as pn\n",
    "import holoviews as hv\n",
    "import numpy as np\n",
    "from pathlib import Path\n",
    "from sklearn import cluster, covariance, manifold\n",
    "from sklearn.preprocessing import MinMaxScaler\n",
    "from sklearn.cluster import KMeans\n",
    "from sklearn.preprocessing import StandardScaler\n",
    "from sklearn.decomposition import PCA\n",
    "import seaborn as sns\n",
    "import matplotlib.cm as cm\n",
    "import matplotlib.pyplot as plt\n",
    "from matplotlib.collections import LineCollection\n",
    "\n",
    "import warnings\n",
    "warnings.filterwarnings('ignore')\n"
   ]
  },
  {
   "cell_type": "code",
   "execution_count": 31,
   "id": "cb8427aa-bae0-4aef-b245-4b9ffdffcc58",
   "metadata": {},
   "outputs": [],
   "source": [
    "# Import positive news about institutional adoption\n",
    "events_inst_pos=pd.read_csv(\n",
    "    Path('Institutional_Adoption_Events_positive_in_2021.csv'),\n",
    "    index_col='DATE',\n",
    "    parse_dates=True,\n",
    "    infer_datetime_format=True\n",
    ")\n",
    "events_inst_pos=events_inst_pos.fillna(0)\n",
    "events_inst_pos=events_inst_pos[['Institutional Adopt']]\n",
    "events_inst_pos=events_inst_pos.rename(columns={'Institutional Adopt': 'Institutional Adopt Pos'})"
   ]
  },
  {
   "cell_type": "code",
   "execution_count": 32,
   "id": "6de5c763-50fc-44b3-afba-bddf697e915a",
   "metadata": {},
   "outputs": [],
   "source": [
    "# Import negative news about institutional adoption\n",
    "events_inst_neg=pd.read_csv(\n",
    "    Path('Institutional_Adoption_Events_negative_in_2021.csv'),\n",
    "    index_col='DATE',\n",
    "    parse_dates=True,\n",
    "    infer_datetime_format=True\n",
    ")\n",
    "events_inst_neg=events_inst_neg.fillna(0)\n",
    "events_inst_neg=events_inst_neg[['Institutional Adopt']]\n",
    "events_inst_neg=events_inst_neg.rename(columns={'Institutional Adopt': 'Institutional Adopt Neg'})"
   ]
  },
  {
   "cell_type": "code",
   "execution_count": 33,
   "id": "e4273b04-14a0-4dd9-a290-228a9b4d8bdb",
   "metadata": {},
   "outputs": [],
   "source": [
    "# Import China news\n",
    "events_china=pd.read_csv(\n",
    "    Path('China_events_2021.csv'),\n",
    "    index_col='DATE',\n",
    "    parse_dates=True,\n",
    "    infer_datetime_format=True\n",
    ")\n",
    "events_china=events_china.fillna(0)\n",
    "events_china=events_china[['INDICATOR']]"
   ]
  },
  {
   "cell_type": "code",
   "execution_count": 34,
   "id": "e5d0a6c7-5aa7-47a4-9b39-2751fee4f981",
   "metadata": {},
   "outputs": [],
   "source": [
    "# Import regulatory news\n",
    "events_regs=pd.read_csv(\n",
    "    Path('Regulation_events_2021.csv'),\n",
    "    index_col='DATE',\n",
    "    parse_dates=True,\n",
    "    infer_datetime_format=True\n",
    ")\n",
    "events_regs=events_regs.fillna(0)\n",
    "events_regs=events_regs[['Regulation']]"
   ]
  },
  {
   "cell_type": "code",
   "execution_count": 35,
   "id": "a41284df-1f17-47c7-a2c9-54a505de9ebb",
   "metadata": {},
   "outputs": [],
   "source": [
    "# Import market cap data from the Price_Analysis notebook\n",
    "mc=pd.read_csv(\n",
    "    Path('crypto_market_caps.csv'),\n",
    "    index_col='date',\n",
    "    parse_dates=True,\n",
    "    infer_datetime_format=True\n",
    ")\n",
    "#prices.sort_values(by='date')"
   ]
  },
  {
   "cell_type": "code",
   "execution_count": 36,
   "id": "f0e43f0a-089f-455c-b371-cea75ad1d7c1",
   "metadata": {},
   "outputs": [],
   "source": [
    "# Combine positive institutional news with prices\n",
    "combined_ins_pos=pd.merge(mc, events_inst_pos,left_index=True, right_index=True)"
   ]
  },
  {
   "cell_type": "code",
   "execution_count": 37,
   "id": "43a1294a-b9df-4a0e-83c3-714c6d8574d5",
   "metadata": {},
   "outputs": [],
   "source": [
    "# Combine negative institutional news with prices\n",
    "combined_ins_neg=pd.merge(mc, events_inst_neg, left_index=True, right_index=True)\n",
    "#combined_ins_neg.head()"
   ]
  },
  {
   "cell_type": "code",
   "execution_count": 38,
   "id": "4461c20d-61fe-4962-a7c6-8f65716241b5",
   "metadata": {},
   "outputs": [],
   "source": [
    "# Combine china news with prices\n",
    "combined_china=pd.merge(mc, events_china, left_index=True, right_index=True)\n",
    "#combined_china.head()"
   ]
  },
  {
   "cell_type": "code",
   "execution_count": 39,
   "id": "df4f17d6-38db-47a8-a77e-da7c78c3830a",
   "metadata": {},
   "outputs": [],
   "source": [
    "# Combine positive institutional news with prices\n",
    "combined_regs=pd.merge(mc, events_regs, left_index=True, right_index=True)\n",
    "#combined_regs.head()"
   ]
  },
  {
   "cell_type": "code",
   "execution_count": 40,
   "id": "0d63ea7c-4968-4abc-abfd-9b78ee2c5c6f",
   "metadata": {},
   "outputs": [],
   "source": [
    "def get_df(df):\n",
    "    '''\n",
    "    Prepare a dataframe for clustering analysis\n",
    "    \n",
    "    Argument: \n",
    "        df: A dataframe combining events and changes in market cap\n",
    "    \n",
    "            Options include:\n",
    "            - combined_ins_pos (Positive Institutional News)\n",
    "            - combined_ins_neg (Negative Institutional News)\n",
    "            - combined_china (China News)\n",
    "            - combined_regs (Regulatory News\n",
    "\n",
    "    Returns:\n",
    "        A dataframe with annual return and variance calculations\n",
    "        \n",
    "    \n",
    "    '''\n",
    "    \n",
    "    # Drop NaN in rows and columns\n",
    "    df = df.dropna(axis=0, how='all')\n",
    "    df = df.dropna(axis=1)\n",
    "    \n",
    "    # Remove last column with the new signals)\n",
    "    df = df.iloc[:, :-1]\n",
    "    \n",
    "    # List of column names\n",
    "    column_names = list(df)\n",
    "    \n",
    "    # Calculate mean and variance for each token\n",
    "    annual_returns = []\n",
    "    variance = []\n",
    "    \n",
    "    for x in column_names:\n",
    "        annual_returns.append(df[x].mean()*252)\n",
    "        variance.append(df[x].std()*np.sqrt(252))\n",
    "    \n",
    "    # New dataframe with returns and variance data\n",
    "    stats_df = pd.DataFrame([annual_returns,variance])\n",
    "    stats_df = stats_df.T\n",
    "    stats_df.columns = ('annual_return','variance')\n",
    "    stats_df.index = column_names\n",
    "\n",
    "    return stats_df"
   ]
  },
  {
   "cell_type": "code",
   "execution_count": 41,
   "id": "c7165170-d47b-4883-ad34-e77b1cdce1c1",
   "metadata": {},
   "outputs": [],
   "source": [
    "def get_elbow(df):\n",
    "    '''\n",
    "    Plot the elbow curve to select optimal k-values \n",
    "\n",
    "    Arguments: \n",
    "        df: A dataframe combining events and changes in market cap\n",
    "\n",
    "    Returns:\n",
    "        A plot with the elbow curve for the selected dataframe\n",
    "    \n",
    "    '''\n",
    "    \n",
    "    # Use get_df to retrieve the updated dataframe \n",
    "    stats_df = get_df(df)\n",
    "    \n",
    "    # Create a list to store inertia values and the values of k\n",
    "    inertia = []\n",
    "    k = list(range(1, 11))\n",
    "    \n",
    "    # Create a for-loop where each value of k is evaluated using the K-means algorithm\n",
    "    # Fit the model using the service_ratings DataFrame\n",
    "    # Append the value of the computed inertia from the `inertia_` attribute of the KMeans model instance\n",
    "    for i in k:\n",
    "        k_model = KMeans(n_clusters=i, random_state=1)\n",
    "        k_model.fit(stats_df)\n",
    "        inertia.append(k_model.inertia_)\n",
    "    \n",
    "    # Define a DataFrame to hold the values for k and the corresponding inertia\n",
    "    elbow_data = {\"k\": k, \"inertia\": inertia}\n",
    "    df_elbow = pd.DataFrame(elbow_data)\n",
    "    \n",
    "    # Plot the DataFrame\n",
    "    plot = df_elbow.hvplot.line(\n",
    "        x=\"k\", \n",
    "        y=\"inertia\", \n",
    "        title=\"Elbow Curve\",\n",
    "        xticks=k\n",
    "    )\n",
    "    \n",
    "    return plot"
   ]
  },
  {
   "cell_type": "code",
   "execution_count": 42,
   "id": "6fb35e24-eef2-4de8-9898-b2fd1892f4b8",
   "metadata": {},
   "outputs": [],
   "source": [
    "def get_kmeans_plot(df, k):\n",
    "    '''\n",
    "    Plot visualizing token clusters using the KMeans algorithm\n",
    "    \n",
    "    Arguments: \n",
    "        - df: A dataframe combining events and changes in market cap\n",
    "        - k: The number of clusters to use\n",
    "\n",
    "    Returns:\n",
    "        A plot clustering the tokens based on changes in valuation and news category\n",
    "    \n",
    "    '''\n",
    "    \n",
    "    stats_df = get_df(df)\n",
    "    \n",
    "    # Create and initialize the K-means model instance for 4 clusters\n",
    "    model = KMeans(n_clusters=k, random_state=1)\n",
    "    \n",
    "    # Fit the data to the instance of the model\n",
    "    model.fit(stats_df)\n",
    "\n",
    "    # Make predictions about the data clusters using the trained model\n",
    "    crypto_clusters = model.predict(stats_df)\n",
    "    \n",
    "    # Add predicted clusters to dataframe and create new column with token names\n",
    "    stats_df['crypto_cluster']=crypto_clusters\n",
    "    #stats_df['names']=column_names\n",
    "    \n",
    "    # Visualize cluster data in a pot\n",
    "    plot = stats_df.hvplot.scatter(x=\"annual_return\", y=\"variance\", by=\"crypto_cluster\",text='names',text_baseline='top',hover=True, hover_cols=['index'])\n",
    "    \n",
    "    return plot"
   ]
  },
  {
   "cell_type": "code",
   "execution_count": 43,
   "id": "f9ba1159-a007-4f97-8e74-2f961ae7b05f",
   "metadata": {},
   "outputs": [
    {
     "name": "stderr",
     "output_type": "stream",
     "text": [
      "WARNING:param.main: text option not found for scatter plot; similar options include: []\n",
      "WARNING:param.main: text_baseline option not found for scatter plot; similar options include: []\n"
     ]
    },
    {
     "data": {},
     "metadata": {},
     "output_type": "display_data"
    },
    {
     "data": {
      "application/vnd.holoviews_exec.v0+json": "",
      "text/html": [
       "<div id='3123'>\n",
       "\n",
       "\n",
       "\n",
       "\n",
       "\n",
       "  <div class=\"bk-root\" id=\"c5f15f49-b96d-4abb-8ec5-18b0f8153158\" data-root-id=\"3123\"></div>\n",
       "</div>\n",
       "<script type=\"application/javascript\">(function(root) {\n",
       "  function embed_document(root) {\n",
       "    var docs_json = {\"b7e5c6d9-c2b1-443a-8d35-b624ee340ecf\":{\"defs\":[{\"extends\":null,\"module\":null,\"name\":\"ReactiveHTML1\",\"overrides\":[],\"properties\":[]},{\"extends\":null,\"module\":null,\"name\":\"FlexBox1\",\"overrides\":[],\"properties\":[{\"default\":\"flex-start\",\"kind\":null,\"name\":\"align_content\"},{\"default\":\"flex-start\",\"kind\":null,\"name\":\"align_items\"},{\"default\":\"row\",\"kind\":null,\"name\":\"flex_direction\"},{\"default\":\"wrap\",\"kind\":null,\"name\":\"flex_wrap\"},{\"default\":\"flex-start\",\"kind\":null,\"name\":\"justify_content\"}]},{\"extends\":null,\"module\":null,\"name\":\"TemplateActions1\",\"overrides\":[],\"properties\":[{\"default\":0,\"kind\":null,\"name\":\"open_modal\"},{\"default\":0,\"kind\":null,\"name\":\"close_modal\"}]},{\"extends\":null,\"module\":null,\"name\":\"MaterialTemplateActions1\",\"overrides\":[],\"properties\":[{\"default\":0,\"kind\":null,\"name\":\"open_modal\"},{\"default\":0,\"kind\":null,\"name\":\"close_modal\"}]}],\"roots\":{\"references\":[{\"attributes\":{\"data\":{\"annual_return\":{\"__ndarray__\":\"UmRe2MBZKEB3TgRvRRYaQKAhNfmh5BlACiDgyFTBHEDjcdTUafgZQEsXz7H5iTFA21hrrgazJ0CH9olphrMfQFozvmDsLiRAAXJ2U19UG0CO5QN7ZHEcQIXYoKT6cBlA7ycL+sXIKkC/pIMVKRcmQKcyOKOypyhAgvJE/2VqMUAcqBkomLwhQDbkrYyKRS5A3a6AAvDbFUA=\",\"dtype\":\"float64\",\"order\":\"little\",\"shape\":[19]},\"crypto_cluster\":[3,3,3,3,3,3,3,3,3,3,3,3,3,3,3,3,3,3,3],\"index\":[\"hackenai\",\"solana\",\"cosmos\",\"filecoin\",\"thorchain\",\"sushi\",\"compound-governance-token\",\"monero\",\"waves\",\"zilliqa\",\"flux\",\"yearn-finance\",\"curve-dao-token\",\"augur\",\"uniswap\",\"antimatter\",\"1inch\",\"aave\",\"maker\"],\"variance\":{\"__ndarray__\":\"IJgi6vbH8D8K1gmaG4r+P3b0UX23E/o/JvQH6ePwBEDbkXOrgvT4P404lVggNvg/kslOdcWA5z/N+jvihQEIQAT8cL2Y5QJAvA2PKsFAAEB9cH1HeZTsP6V+sNqS0Ok/yEjaA6R94z/hgavPssIKQH6gwG4f2Ps/gx/aGiGWDUB2JPf07OX1P+Fu5vcB+O4/tvBicgVn7T8=\",\"dtype\":\"float64\",\"order\":\"little\",\"shape\":[19]}},\"selected\":{\"id\":\"3235\"},\"selection_policy\":{\"id\":\"3256\"}},\"id\":\"3234\",\"type\":\"ColumnDataSource\"},{\"attributes\":{\"active_multi\":null,\"tools\":[{\"id\":\"3127\"},{\"id\":\"3148\"},{\"id\":\"3149\"},{\"id\":\"3150\"},{\"id\":\"3151\"},{\"id\":\"3152\"}]},\"id\":\"3154\",\"type\":\"Toolbar\"},{\"attributes\":{\"source\":{\"id\":\"3210\"}},\"id\":\"3217\",\"type\":\"CDSView\"},{\"attributes\":{},\"id\":\"3183\",\"type\":\"UnionRenderers\"},{\"attributes\":{},\"id\":\"3148\",\"type\":\"SaveTool\"},{\"attributes\":{\"data_source\":{\"id\":\"3210\"},\"glyph\":{\"id\":\"3213\"},\"hover_glyph\":null,\"muted_glyph\":{\"id\":\"3215\"},\"nonselection_glyph\":{\"id\":\"3214\"},\"selection_glyph\":{\"id\":\"3233\"},\"view\":{\"id\":\"3217\"}},\"id\":\"3216\",\"type\":\"GlyphRenderer\"},{\"attributes\":{},\"id\":\"3149\",\"type\":\"PanTool\"},{\"attributes\":{\"fill_alpha\":{\"value\":0.2},\"fill_color\":{\"value\":\"#6d904f\"},\"line_alpha\":{\"value\":0.2},\"line_color\":{\"value\":\"#6d904f\"},\"size\":{\"value\":5.477225575051661},\"x\":{\"field\":\"annual_return\"},\"y\":{\"field\":\"variance\"}},\"id\":\"3239\",\"type\":\"Scatter\"},{\"attributes\":{\"fill_color\":{\"value\":\"#e5ae38\"},\"line_color\":{\"value\":\"#e5ae38\"},\"size\":{\"value\":5.477225575051661},\"x\":{\"field\":\"annual_return\"},\"y\":{\"field\":\"variance\"}},\"id\":\"3213\",\"type\":\"Scatter\"},{\"attributes\":{},\"id\":\"3150\",\"type\":\"WheelZoomTool\"},{\"attributes\":{\"data_source\":{\"id\":\"3167\"},\"glyph\":{\"id\":\"3170\"},\"hover_glyph\":null,\"muted_glyph\":{\"id\":\"3172\"},\"nonselection_glyph\":{\"id\":\"3171\"},\"selection_glyph\":{\"id\":\"3187\"},\"view\":{\"id\":\"3174\"}},\"id\":\"3173\",\"type\":\"GlyphRenderer\"},{\"attributes\":{\"overlay\":{\"id\":\"3153\"}},\"id\":\"3151\",\"type\":\"BoxZoomTool\"},{\"attributes\":{\"fill_alpha\":{\"value\":0.1},\"fill_color\":{\"value\":\"#e5ae38\"},\"line_alpha\":{\"value\":0.1},\"line_color\":{\"value\":\"#e5ae38\"},\"size\":{\"value\":5.477225575051661},\"x\":{\"field\":\"annual_return\"},\"y\":{\"field\":\"variance\"}},\"id\":\"3214\",\"type\":\"Scatter\"},{\"attributes\":{},\"id\":\"3152\",\"type\":\"ResetTool\"},{\"attributes\":{\"end\":18.593189393888547,\"reset_end\":18.593189393888547,\"reset_start\":-1.4286198385053763,\"start\":-1.4286198385053763,\"tags\":[[[\"variance\",\"variance\",null]]]},\"id\":\"3126\",\"type\":\"Range1d\"},{\"attributes\":{},\"id\":\"3206\",\"type\":\"UnionRenderers\"},{\"attributes\":{\"fill_alpha\":{\"value\":0.2},\"fill_color\":{\"value\":\"#e5ae38\"},\"line_alpha\":{\"value\":0.2},\"line_color\":{\"value\":\"#e5ae38\"},\"size\":{\"value\":5.477225575051661},\"x\":{\"field\":\"annual_return\"},\"y\":{\"field\":\"variance\"}},\"id\":\"3215\",\"type\":\"Scatter\"},{\"attributes\":{},\"id\":\"3189\",\"type\":\"Selection\"},{\"attributes\":{\"label\":{\"value\":\"1\"},\"renderers\":[{\"id\":\"3194\"}]},\"id\":\"3208\",\"type\":\"LegendItem\"},{\"attributes\":{},\"id\":\"3168\",\"type\":\"Selection\"},{\"attributes\":{},\"id\":\"3230\",\"type\":\"UnionRenderers\"},{\"attributes\":{\"children\":[{\"id\":\"3124\"},{\"id\":\"3131\"},{\"id\":\"3404\"}],\"margin\":[0,0,0,0],\"name\":\"Row06752\",\"tags\":[\"embedded\"]},\"id\":\"3123\",\"type\":\"Row\"},{\"attributes\":{\"angle\":{\"value\":0.0},\"fill_alpha\":{\"value\":1.0},\"fill_color\":{\"value\":\"#e5ae38\"},\"hatch_alpha\":{\"value\":1.0},\"hatch_color\":{\"value\":\"black\"},\"hatch_scale\":{\"value\":12.0},\"hatch_weight\":{\"value\":1.0},\"line_alpha\":{\"value\":1.0},\"line_cap\":{\"value\":\"butt\"},\"line_color\":{\"value\":\"#e5ae38\"},\"line_dash\":{\"value\":[]},\"line_dash_offset\":{\"value\":0},\"line_join\":{\"value\":\"bevel\"},\"line_width\":{\"value\":1},\"marker\":{\"value\":\"circle\"},\"size\":{\"value\":5.477225575051661},\"x\":{\"field\":\"annual_return\"},\"y\":{\"field\":\"variance\"}},\"id\":\"3233\",\"type\":\"Scatter\"},{\"attributes\":{},\"id\":\"3235\",\"type\":\"Selection\"},{\"attributes\":{\"fill_color\":{\"value\":\"#30a2da\"},\"line_color\":{\"value\":\"#30a2da\"},\"size\":{\"value\":5.477225575051661},\"x\":{\"field\":\"annual_return\"},\"y\":{\"field\":\"variance\"}},\"id\":\"3170\",\"type\":\"Scatter\"},{\"attributes\":{\"fill_alpha\":{\"value\":0.1},\"fill_color\":{\"value\":\"#fc4f30\"},\"line_alpha\":{\"value\":0.1},\"line_color\":{\"value\":\"#fc4f30\"},\"size\":{\"value\":5.477225575051661},\"x\":{\"field\":\"annual_return\"},\"y\":{\"field\":\"variance\"}},\"id\":\"3192\",\"type\":\"Scatter\"},{\"attributes\":{\"data_source\":{\"id\":\"3188\"},\"glyph\":{\"id\":\"3191\"},\"hover_glyph\":null,\"muted_glyph\":{\"id\":\"3193\"},\"nonselection_glyph\":{\"id\":\"3192\"},\"selection_glyph\":{\"id\":\"3209\"},\"view\":{\"id\":\"3195\"}},\"id\":\"3194\",\"type\":\"GlyphRenderer\"},{\"attributes\":{\"data_source\":{\"id\":\"3234\"},\"glyph\":{\"id\":\"3237\"},\"hover_glyph\":null,\"muted_glyph\":{\"id\":\"3239\"},\"nonselection_glyph\":{\"id\":\"3238\"},\"selection_glyph\":{\"id\":\"3259\"},\"view\":{\"id\":\"3241\"}},\"id\":\"3240\",\"type\":\"GlyphRenderer\"},{\"attributes\":{\"angle\":{\"value\":0.0},\"fill_alpha\":{\"value\":1.0},\"fill_color\":{\"value\":\"#fc4f30\"},\"hatch_alpha\":{\"value\":1.0},\"hatch_color\":{\"value\":\"black\"},\"hatch_scale\":{\"value\":12.0},\"hatch_weight\":{\"value\":1.0},\"line_alpha\":{\"value\":1.0},\"line_cap\":{\"value\":\"butt\"},\"line_color\":{\"value\":\"#fc4f30\"},\"line_dash\":{\"value\":[]},\"line_dash_offset\":{\"value\":0},\"line_join\":{\"value\":\"bevel\"},\"line_width\":{\"value\":1},\"marker\":{\"value\":\"circle\"},\"size\":{\"value\":5.477225575051661},\"x\":{\"field\":\"annual_return\"},\"y\":{\"field\":\"variance\"}},\"id\":\"3209\",\"type\":\"Scatter\"},{\"attributes\":{\"fill_alpha\":{\"value\":0.1},\"fill_color\":{\"value\":\"#6d904f\"},\"line_alpha\":{\"value\":0.1},\"line_color\":{\"value\":\"#6d904f\"},\"size\":{\"value\":5.477225575051661},\"x\":{\"field\":\"annual_return\"},\"y\":{\"field\":\"variance\"}},\"id\":\"3238\",\"type\":\"Scatter\"},{\"attributes\":{\"data\":{\"annual_return\":{\"__ndarray__\":\"XKkU5Q3gEED7Kqv3gwIOQJgahHquAwrAR8/RLK39/T9QenmadlkFQOblkMvzrALADEnvsOUj/T/Hz37OhBQIQA5ExXhfFiLAfNK7Ei0otL9SQBuS0fMDQPieELNprtG/4M9SDpZaCEBuqadA3c3KP59ohcrJYAFAjTbSrnCsEkCn43EhOfABQI8svYoqwPE/p593q0LM/j/xoidGijEQQEg4HKroHSHACmSyiG6GBEAE051xI3PyvwCkzg8YyyHAcwc9szbf9L86didlnE8SwC6snv84+zbA1f1hN9xuAUAco3lVRIgEQA==\",\"dtype\":\"float64\",\"order\":\"little\",\"shape\":[29]},\"crypto_cluster\":[0,0,0,0,0,0,0,0,0,0,0,0,0,0,0,0,0,0,0,0,0,0,0,0,0,0,0,0,0],\"index\":[\"spell-token\",\"illuvium\",\"polyswarm\",\"bitcoin\",\"ethereum\",\"polkadot\",\"cardano\",\"dogecoin\",\"terra-luna\",\"avalanche-2\",\"litecoin\",\"bitcoin-cash\",\"matic-network\",\"stellar\",\"vechain\",\"axie-infinity\",\"fantom\",\"algorand\",\"tezos\",\"harmony\",\"flow\",\"chainlink\",\"band-protocol\",\"huobi-token\",\"bitcoin-gold\",\"dia-data\",\"lido-dao\",\"serum\",\"arweave\"],\"variance\":{\"__ndarray__\":\"DzIGT2I16T9seiX5pKDjP7grhmMjz+s/jvsg+brW6z+o+X4hKanwPw1Cjn6upPA/VZ9a+xfy+T8Ls2CcxqT3P3cSchsMdO4/yvhCxN2r5D9YqjM6diPtPzngaxnKXvE/Eh+v8CoN3j9wr94bLODwP5sUUkrzGvU/R9kUDo1J8T8Lj25FqHXyP17QpWkGqPI/Obga+DuA8D9+gMxwSJzxP6EsuenT3/U/0vWZfYFW8j/0tgTuyDTwP1oCC/+eOgBA6q4YSd+zzj95LH84xGDrP918YuLmlhlAA6xwkGxm9j8IeCbIEpPsPw==\",\"dtype\":\"float64\",\"order\":\"little\",\"shape\":[29]}},\"selected\":{\"id\":\"3168\"},\"selection_policy\":{\"id\":\"3183\"}},\"id\":\"3167\",\"type\":\"ColumnDataSource\"},{\"attributes\":{\"angle\":{\"value\":0.0},\"fill_alpha\":{\"value\":1.0},\"fill_color\":{\"value\":\"#30a2da\"},\"hatch_alpha\":{\"value\":1.0},\"hatch_color\":{\"value\":\"black\"},\"hatch_scale\":{\"value\":12.0},\"hatch_weight\":{\"value\":1.0},\"line_alpha\":{\"value\":1.0},\"line_cap\":{\"value\":\"butt\"},\"line_color\":{\"value\":\"#30a2da\"},\"line_dash\":{\"value\":[]},\"line_dash_offset\":{\"value\":0},\"line_join\":{\"value\":\"bevel\"},\"line_width\":{\"value\":1},\"marker\":{\"value\":\"circle\"},\"size\":{\"value\":5.477225575051661},\"x\":{\"field\":\"annual_return\"},\"y\":{\"field\":\"variance\"}},\"id\":\"3187\",\"type\":\"Scatter\"},{\"attributes\":{\"label\":{\"value\":\"3\"},\"renderers\":[{\"id\":\"3240\"}]},\"id\":\"3258\",\"type\":\"LegendItem\"},{\"attributes\":{\"bottom_units\":\"screen\",\"fill_alpha\":0.5,\"fill_color\":\"lightgrey\",\"left_units\":\"screen\",\"level\":\"overlay\",\"line_alpha\":1.0,\"line_color\":\"black\",\"line_dash\":[4,4],\"line_width\":2,\"right_units\":\"screen\",\"syncable\":false,\"top_units\":\"screen\"},\"id\":\"3153\",\"type\":\"BoxAnnotation\"},{\"attributes\":{},\"id\":\"3256\",\"type\":\"UnionRenderers\"},{\"attributes\":{\"data\":{\"annual_return\":{\"__ndarray__\":\"gsBRC275N0Do9M6wxlg4QCLijX/6pEZA\",\"dtype\":\"float64\",\"order\":\"little\",\"shape\":[3]},\"crypto_cluster\":[2,2,2],\"index\":[\"api3\",\"audius\",\"bonfida\"],\"variance\":{\"__ndarray__\":\"gYr2gFhtEkClAlH8bhv8PwD296nF7h1A\",\"dtype\":\"float64\",\"order\":\"little\",\"shape\":[3]}},\"selected\":{\"id\":\"3211\"},\"selection_policy\":{\"id\":\"3230\"}},\"id\":\"3210\",\"type\":\"ColumnDataSource\"},{\"attributes\":{\"fill_color\":{\"value\":\"#6d904f\"},\"line_color\":{\"value\":\"#6d904f\"},\"size\":{\"value\":5.477225575051661},\"x\":{\"field\":\"annual_return\"},\"y\":{\"field\":\"variance\"}},\"id\":\"3237\",\"type\":\"Scatter\"},{\"attributes\":{},\"id\":\"3166\",\"type\":\"BasicTickFormatter\"},{\"attributes\":{\"callback\":null,\"renderers\":[{\"id\":\"3173\"},{\"id\":\"3194\"},{\"id\":\"3216\"},{\"id\":\"3240\"}],\"tags\":[\"hv_created\"],\"tooltips\":[[\"crypto_cluster\",\"@{crypto_cluster}\"],[\"annual_return\",\"@{annual_return}\"],[\"variance\",\"@{variance}\"],[\"index\",\"@{index}\"]]},\"id\":\"3127\",\"type\":\"HoverTool\"},{\"attributes\":{\"source\":{\"id\":\"3234\"}},\"id\":\"3241\",\"type\":\"CDSView\"},{\"attributes\":{},\"id\":\"3211\",\"type\":\"Selection\"},{\"attributes\":{\"fill_alpha\":{\"value\":0.2},\"fill_color\":{\"value\":\"#fc4f30\"},\"line_alpha\":{\"value\":0.2},\"line_color\":{\"value\":\"#fc4f30\"},\"size\":{\"value\":5.477225575051661},\"x\":{\"field\":\"annual_return\"},\"y\":{\"field\":\"variance\"}},\"id\":\"3193\",\"type\":\"Scatter\"},{\"attributes\":{},\"id\":\"3161\",\"type\":\"AllLabels\"},{\"attributes\":{\"label\":{\"value\":\"0\"},\"renderers\":[{\"id\":\"3173\"}]},\"id\":\"3186\",\"type\":\"LegendItem\"},{\"attributes\":{},\"id\":\"3163\",\"type\":\"BasicTickFormatter\"},{\"attributes\":{},\"id\":\"3136\",\"type\":\"LinearScale\"},{\"attributes\":{\"source\":{\"id\":\"3167\"}},\"id\":\"3174\",\"type\":\"CDSView\"},{\"attributes\":{},\"id\":\"3141\",\"type\":\"BasicTicker\"},{\"attributes\":{\"angle\":{\"value\":0.0},\"fill_alpha\":{\"value\":1.0},\"fill_color\":{\"value\":\"#6d904f\"},\"hatch_alpha\":{\"value\":1.0},\"hatch_color\":{\"value\":\"black\"},\"hatch_scale\":{\"value\":12.0},\"hatch_weight\":{\"value\":1.0},\"line_alpha\":{\"value\":1.0},\"line_cap\":{\"value\":\"butt\"},\"line_color\":{\"value\":\"#6d904f\"},\"line_dash\":{\"value\":[]},\"line_dash_offset\":{\"value\":0},\"line_join\":{\"value\":\"bevel\"},\"line_width\":{\"value\":1},\"marker\":{\"value\":\"circle\"},\"size\":{\"value\":5.477225575051661},\"x\":{\"field\":\"annual_return\"},\"y\":{\"field\":\"variance\"}},\"id\":\"3259\",\"type\":\"Scatter\"},{\"attributes\":{\"below\":[{\"id\":\"3140\"}],\"center\":[{\"id\":\"3143\"},{\"id\":\"3147\"}],\"height\":300,\"left\":[{\"id\":\"3144\"}],\"margin\":[5,5,5,5],\"min_border_bottom\":10,\"min_border_left\":10,\"min_border_right\":10,\"min_border_top\":10,\"renderers\":[{\"id\":\"3173\"},{\"id\":\"3194\"},{\"id\":\"3216\"},{\"id\":\"3240\"}],\"right\":[{\"id\":\"3185\"}],\"sizing_mode\":\"fixed\",\"title\":{\"id\":\"3132\"},\"toolbar\":{\"id\":\"3154\"},\"width\":700,\"x_range\":{\"id\":\"3125\"},\"x_scale\":{\"id\":\"3136\"},\"y_range\":{\"id\":\"3126\"},\"y_scale\":{\"id\":\"3138\"}},\"id\":\"3131\",\"subtype\":\"Figure\",\"type\":\"Plot\"},{\"attributes\":{\"fill_alpha\":{\"value\":0.1},\"fill_color\":{\"value\":\"#30a2da\"},\"line_alpha\":{\"value\":0.1},\"line_color\":{\"value\":\"#30a2da\"},\"size\":{\"value\":5.477225575051661},\"x\":{\"field\":\"annual_return\"},\"y\":{\"field\":\"variance\"}},\"id\":\"3171\",\"type\":\"Scatter\"},{\"attributes\":{\"end\":121.31756233540993,\"reset_end\":121.31756233540993,\"reset_start\":-28.911430292578455,\"start\":-28.911430292578455,\"tags\":[[[\"annual_return\",\"annual_return\",null]]]},\"id\":\"3125\",\"type\":\"Range1d\"},{\"attributes\":{\"click_policy\":\"mute\",\"items\":[{\"id\":\"3186\"},{\"id\":\"3208\"},{\"id\":\"3232\"},{\"id\":\"3258\"}],\"location\":[0,0],\"title\":\"crypto_cluster\"},\"id\":\"3185\",\"type\":\"Legend\"},{\"attributes\":{\"fill_alpha\":{\"value\":0.2},\"fill_color\":{\"value\":\"#30a2da\"},\"line_alpha\":{\"value\":0.2},\"line_color\":{\"value\":\"#30a2da\"},\"size\":{\"value\":5.477225575051661},\"x\":{\"field\":\"annual_return\"},\"y\":{\"field\":\"variance\"}},\"id\":\"3172\",\"type\":\"Scatter\"},{\"attributes\":{\"axis\":{\"id\":\"3144\"},\"dimension\":1,\"grid_line_color\":null,\"ticker\":null},\"id\":\"3147\",\"type\":\"Grid\"},{\"attributes\":{\"label\":{\"value\":\"2\"},\"renderers\":[{\"id\":\"3216\"}]},\"id\":\"3232\",\"type\":\"LegendItem\"},{\"attributes\":{\"text_color\":\"black\",\"text_font_size\":\"12pt\"},\"id\":\"3132\",\"type\":\"Title\"},{\"attributes\":{\"fill_color\":{\"value\":\"#fc4f30\"},\"line_color\":{\"value\":\"#fc4f30\"},\"size\":{\"value\":5.477225575051661},\"x\":{\"field\":\"annual_return\"},\"y\":{\"field\":\"variance\"}},\"id\":\"3191\",\"type\":\"Scatter\"},{\"attributes\":{\"axis_label\":\"annual_return\",\"formatter\":{\"id\":\"3163\"},\"major_label_policy\":{\"id\":\"3161\"},\"ticker\":{\"id\":\"3141\"}},\"id\":\"3140\",\"type\":\"LinearAxis\"},{\"attributes\":{\"margin\":[5,5,5,5],\"name\":\"HSpacer06757\",\"sizing_mode\":\"stretch_width\"},\"id\":\"3404\",\"type\":\"Spacer\"},{\"attributes\":{},\"id\":\"3138\",\"type\":\"LinearScale\"},{\"attributes\":{\"axis\":{\"id\":\"3140\"},\"grid_line_color\":null,\"ticker\":null},\"id\":\"3143\",\"type\":\"Grid\"},{\"attributes\":{\"margin\":[5,5,5,5],\"name\":\"HSpacer06756\",\"sizing_mode\":\"stretch_width\"},\"id\":\"3124\",\"type\":\"Spacer\"},{\"attributes\":{\"source\":{\"id\":\"3188\"}},\"id\":\"3195\",\"type\":\"CDSView\"},{\"attributes\":{},\"id\":\"3145\",\"type\":\"BasicTicker\"},{\"attributes\":{\"axis_label\":\"variance\",\"formatter\":{\"id\":\"3166\"},\"major_label_policy\":{\"id\":\"3164\"},\"ticker\":{\"id\":\"3145\"}},\"id\":\"3144\",\"type\":\"LinearAxis\"},{\"attributes\":{\"data\":{\"annual_return\":{\"__ndarray__\":\"dB8oUczYXEA=\",\"dtype\":\"float64\",\"order\":\"little\",\"shape\":[1]},\"crypto_cluster\":[1],\"index\":[\"mercurial\"],\"variance\":{\"__ndarray__\":\"WxhofLnsMEA=\",\"dtype\":\"float64\",\"order\":\"little\",\"shape\":[1]}},\"selected\":{\"id\":\"3189\"},\"selection_policy\":{\"id\":\"3206\"}},\"id\":\"3188\",\"type\":\"ColumnDataSource\"},{\"attributes\":{},\"id\":\"3164\",\"type\":\"AllLabels\"}],\"root_ids\":[\"3123\"]},\"title\":\"Bokeh Application\",\"version\":\"2.3.3\"}};\n",
       "    var render_items = [{\"docid\":\"b7e5c6d9-c2b1-443a-8d35-b624ee340ecf\",\"root_ids\":[\"3123\"],\"roots\":{\"3123\":\"c5f15f49-b96d-4abb-8ec5-18b0f8153158\"}}];\n",
       "    root.Bokeh.embed.embed_items_notebook(docs_json, render_items);\n",
       "  }\n",
       "  if (root.Bokeh !== undefined && root.Bokeh.Panel !== undefined) {\n",
       "    embed_document(root);\n",
       "  } else {\n",
       "    var attempts = 0;\n",
       "    var timer = setInterval(function(root) {\n",
       "      if (root.Bokeh !== undefined && root.Bokeh.Panel !== undefined) {\n",
       "        clearInterval(timer);\n",
       "        embed_document(root);\n",
       "      } else if (document.readyState == \"complete\") {\n",
       "        attempts++;\n",
       "        if (attempts > 200) {\n",
       "          clearInterval(timer);\n",
       "          console.log(\"Bokeh: ERROR: Unable to run BokehJS code because BokehJS library is missing\");\n",
       "        }\n",
       "      }\n",
       "    }, 25, root)\n",
       "  }\n",
       "})(window);</script>"
      ],
      "text/plain": [
       ":NdOverlay   [crypto_cluster]\n",
       "   :Scatter   [annual_return]   (variance,index)"
      ]
     },
     "execution_count": 43,
     "metadata": {
      "application/vnd.holoviews_exec.v0+json": {
       "id": "3123"
      }
     },
     "output_type": "execute_result"
    }
   ],
   "source": [
    "# China news clustering plot\n",
    "china_news = get_kmeans_plot(combined_china, 4)\n",
    "china_news"
   ]
  },
  {
   "cell_type": "code",
   "execution_count": 44,
   "id": "31e5b8c9-aca2-470c-80bc-f5afc882f114",
   "metadata": {},
   "outputs": [
    {
     "name": "stderr",
     "output_type": "stream",
     "text": [
      "WARNING:param.main: text option not found for scatter plot; similar options include: []\n",
      "WARNING:param.main: text_baseline option not found for scatter plot; similar options include: []\n"
     ]
    },
    {
     "data": {},
     "metadata": {},
     "output_type": "display_data"
    },
    {
     "data": {
      "application/vnd.holoviews_exec.v0+json": "",
      "text/html": [
       "<div id='3486'>\n",
       "\n",
       "\n",
       "\n",
       "\n",
       "\n",
       "  <div class=\"bk-root\" id=\"c8c88d66-c335-4fad-bf90-7319a8b0ab79\" data-root-id=\"3486\"></div>\n",
       "</div>\n",
       "<script type=\"application/javascript\">(function(root) {\n",
       "  function embed_document(root) {\n",
       "    var docs_json = {\"68e9fbb8-8b2d-4bef-a55d-66626a38bdd1\":{\"defs\":[{\"extends\":null,\"module\":null,\"name\":\"ReactiveHTML1\",\"overrides\":[],\"properties\":[]},{\"extends\":null,\"module\":null,\"name\":\"FlexBox1\",\"overrides\":[],\"properties\":[{\"default\":\"flex-start\",\"kind\":null,\"name\":\"align_content\"},{\"default\":\"flex-start\",\"kind\":null,\"name\":\"align_items\"},{\"default\":\"row\",\"kind\":null,\"name\":\"flex_direction\"},{\"default\":\"wrap\",\"kind\":null,\"name\":\"flex_wrap\"},{\"default\":\"flex-start\",\"kind\":null,\"name\":\"justify_content\"}]},{\"extends\":null,\"module\":null,\"name\":\"TemplateActions1\",\"overrides\":[],\"properties\":[{\"default\":0,\"kind\":null,\"name\":\"open_modal\"},{\"default\":0,\"kind\":null,\"name\":\"close_modal\"}]},{\"extends\":null,\"module\":null,\"name\":\"MaterialTemplateActions1\",\"overrides\":[],\"properties\":[{\"default\":0,\"kind\":null,\"name\":\"open_modal\"},{\"default\":0,\"kind\":null,\"name\":\"close_modal\"}]}],\"roots\":{\"references\":[{\"attributes\":{\"end\":13.052202926110587,\"reset_end\":13.052202926110587,\"reset_start\":-0.5604153414399249,\"start\":-0.5604153414399249,\"tags\":[[[\"variance\",\"variance\",null]]]},\"id\":\"3489\",\"type\":\"Range1d\"},{\"attributes\":{\"source\":{\"id\":\"3530\"}},\"id\":\"3537\",\"type\":\"CDSView\"},{\"attributes\":{},\"id\":\"3511\",\"type\":\"SaveTool\"},{\"attributes\":{},\"id\":\"3569\",\"type\":\"UnionRenderers\"},{\"attributes\":{},\"id\":\"3527\",\"type\":\"AllLabels\"},{\"attributes\":{},\"id\":\"3512\",\"type\":\"PanTool\"},{\"attributes\":{\"fill_color\":{\"value\":\"#30a2da\"},\"line_color\":{\"value\":\"#30a2da\"},\"size\":{\"value\":5.477225575051661},\"x\":{\"field\":\"annual_return\"},\"y\":{\"field\":\"variance\"}},\"id\":\"3533\",\"type\":\"Scatter\"},{\"attributes\":{\"fill_alpha\":{\"value\":0.2},\"fill_color\":{\"value\":\"#30a2da\"},\"line_alpha\":{\"value\":0.2},\"line_color\":{\"value\":\"#30a2da\"},\"size\":{\"value\":5.477225575051661},\"x\":{\"field\":\"annual_return\"},\"y\":{\"field\":\"variance\"}},\"id\":\"3535\",\"type\":\"Scatter\"},{\"attributes\":{},\"id\":\"3529\",\"type\":\"BasicTickFormatter\"},{\"attributes\":{\"bottom_units\":\"screen\",\"fill_alpha\":0.5,\"fill_color\":\"lightgrey\",\"left_units\":\"screen\",\"level\":\"overlay\",\"line_alpha\":1.0,\"line_color\":\"black\",\"line_dash\":[4,4],\"line_width\":2,\"right_units\":\"screen\",\"syncable\":false,\"top_units\":\"screen\"},\"id\":\"3516\",\"type\":\"BoxAnnotation\"},{\"attributes\":{\"below\":[{\"id\":\"3503\"}],\"center\":[{\"id\":\"3506\"},{\"id\":\"3510\"}],\"height\":300,\"left\":[{\"id\":\"3507\"}],\"margin\":[5,5,5,5],\"min_border_bottom\":10,\"min_border_left\":10,\"min_border_right\":10,\"min_border_top\":10,\"renderers\":[{\"id\":\"3536\"},{\"id\":\"3557\"},{\"id\":\"3579\"},{\"id\":\"3603\"}],\"right\":[{\"id\":\"3548\"}],\"sizing_mode\":\"fixed\",\"title\":{\"id\":\"3495\"},\"toolbar\":{\"id\":\"3517\"},\"width\":700,\"x_range\":{\"id\":\"3488\"},\"x_scale\":{\"id\":\"3499\"},\"y_range\":{\"id\":\"3489\"},\"y_scale\":{\"id\":\"3501\"}},\"id\":\"3494\",\"subtype\":\"Figure\",\"type\":\"Plot\"},{\"attributes\":{\"click_policy\":\"mute\",\"items\":[{\"id\":\"3549\"},{\"id\":\"3571\"},{\"id\":\"3595\"},{\"id\":\"3621\"}],\"location\":[0,0],\"title\":\"crypto_cluster\"},\"id\":\"3548\",\"type\":\"Legend\"},{\"attributes\":{\"angle\":{\"value\":0.0},\"fill_alpha\":{\"value\":1.0},\"fill_color\":{\"value\":\"#fc4f30\"},\"hatch_alpha\":{\"value\":1.0},\"hatch_color\":{\"value\":\"black\"},\"hatch_scale\":{\"value\":12.0},\"hatch_weight\":{\"value\":1.0},\"line_alpha\":{\"value\":1.0},\"line_cap\":{\"value\":\"butt\"},\"line_color\":{\"value\":\"#fc4f30\"},\"line_dash\":{\"value\":[]},\"line_dash_offset\":{\"value\":0},\"line_join\":{\"value\":\"bevel\"},\"line_width\":{\"value\":1},\"marker\":{\"value\":\"circle\"},\"size\":{\"value\":5.477225575051661},\"x\":{\"field\":\"annual_return\"},\"y\":{\"field\":\"variance\"}},\"id\":\"3572\",\"type\":\"Scatter\"},{\"attributes\":{\"axis\":{\"id\":\"3507\"},\"dimension\":1,\"grid_line_color\":null,\"ticker\":null},\"id\":\"3510\",\"type\":\"Grid\"},{\"attributes\":{\"callback\":null,\"renderers\":[{\"id\":\"3536\"},{\"id\":\"3557\"},{\"id\":\"3579\"},{\"id\":\"3603\"}],\"tags\":[\"hv_created\"],\"tooltips\":[[\"crypto_cluster\",\"@{crypto_cluster}\"],[\"annual_return\",\"@{annual_return}\"],[\"variance\",\"@{variance}\"],[\"index\",\"@{index}\"]]},\"id\":\"3490\",\"type\":\"HoverTool\"},{\"attributes\":{\"fill_alpha\":{\"value\":0.1},\"fill_color\":{\"value\":\"#30a2da\"},\"line_alpha\":{\"value\":0.1},\"line_color\":{\"value\":\"#30a2da\"},\"size\":{\"value\":5.477225575051661},\"x\":{\"field\":\"annual_return\"},\"y\":{\"field\":\"variance\"}},\"id\":\"3534\",\"type\":\"Scatter\"},{\"attributes\":{\"data\":{\"annual_return\":{\"__ndarray__\":\"WG+hzepKDsAnTt1TTJP+v7HQsrDcxvK/1TavDFVVCMDT985OmwADwEm1JgpjGQ3AuDVdpkZd/r9qM1C55tbyv+EeaHkKDSHAiORRuiKYAcA/SFLlgxjkvy+jdWTavfW/JcLcY397B8DpqVz3Xdrovyg1gLIxrf2/2PZVwBkz/r/JUUA3YGf8vyLSkDh+dwTAjzAk9ze+EcAVgIbvnw3sv5trYwWfPQLAhmMreJ/7IcCWbCWSF2EFwCrb+hKH2tm/\",\"dtype\":\"float64\",\"order\":\"little\",\"shape\":[24]},\"crypto_cluster\":[0,0,0,0,0,0,0,0,0,0,0,0,0,0,0,0,0,0,0,0,0,0,0,0],\"index\":[\"mercurial\",\"bitcoin\",\"ethereum\",\"polkadot\",\"litecoin\",\"bitcoin-cash\",\"vechain\",\"axie-infinity\",\"sushi\",\"compound-governance-token\",\"waves\",\"zilliqa\",\"chainlink\",\"band-protocol\",\"yearn-finance\",\"bitcoin-gold\",\"curve-dao-token\",\"dia-data\",\"uniswap\",\"1inch\",\"maker\",\"lido-dao\",\"serum\",\"bonfida\"],\"variance\":{\"__ndarray__\":\"yDJu/I5N8z/sAYtQ9V3iP1jz0T56huc/Vgaixc/Q7z+grjoAnYvqP3M6FTWMVew/wlJXREs29z8XCzIeVjD4PyI1a90Beu0/pEDZkmNW6D9LPJxrIjDzP0q9h78NIvg/zFtEfDVG7T86IlM0YwjyP714UfnPQeo/slB7mqOz6D/ESSfcp175P0xJWyeKIPM/8vnZrMxV6j9JATSemrbxP312JY45R+U/2UEA8yWVAUBvpZdyIzb1PzGd15OA9fI/\",\"dtype\":\"float64\",\"order\":\"little\",\"shape\":[24]}},\"selected\":{\"id\":\"3531\"},\"selection_policy\":{\"id\":\"3546\"}},\"id\":\"3530\",\"type\":\"ColumnDataSource\"},{\"attributes\":{\"data\":{\"annual_return\":{\"__ndarray__\":\"YRCBpTU6JUBIWBkMB0IcQOumrsXvKyBAJFwx1r62JEAIDz6dOewiQIsFqb5Z+CZA5mCA30bwIEA=\",\"dtype\":\"float64\",\"order\":\"little\",\"shape\":[7]},\"crypto_cluster\":[2,2,2,2,2,2,2],\"index\":[\"polyswarm\",\"dogecoin\",\"terra-luna\",\"matic-network\",\"filecoin\",\"algorand\",\"harmony\"],\"variance\":{\"__ndarray__\":\"tVdtoJnQBEA+7EiA7yQCQFT5g4JmkwBAh412aAjL/z+C7TKEtDEAQPGe7tkbaRBAZ5tfdVoZAkA=\",\"dtype\":\"float64\",\"order\":\"little\",\"shape\":[7]}},\"selected\":{\"id\":\"3574\"},\"selection_policy\":{\"id\":\"3593\"}},\"id\":\"3573\",\"type\":\"ColumnDataSource\"},{\"attributes\":{},\"id\":\"3515\",\"type\":\"ResetTool\"},{\"attributes\":{\"fill_alpha\":{\"value\":0.1},\"fill_color\":{\"value\":\"#e5ae38\"},\"line_alpha\":{\"value\":0.1},\"line_color\":{\"value\":\"#e5ae38\"},\"size\":{\"value\":5.477225575051661},\"x\":{\"field\":\"annual_return\"},\"y\":{\"field\":\"variance\"}},\"id\":\"3577\",\"type\":\"Scatter\"},{\"attributes\":{},\"id\":\"3546\",\"type\":\"UnionRenderers\"},{\"attributes\":{\"label\":{\"value\":\"1\"},\"renderers\":[{\"id\":\"3557\"}]},\"id\":\"3571\",\"type\":\"LegendItem\"},{\"attributes\":{\"source\":{\"id\":\"3597\"}},\"id\":\"3604\",\"type\":\"CDSView\"},{\"attributes\":{\"data\":{\"annual_return\":{\"__ndarray__\":\"kuiMEQma5j+EK1MUmDz7P21+YSJ0Wg1AmJILRmTzEUDhrydtsWkRQDCKK9YqUQ9Aczx2FKhF/T9slAnTwOoRQCpOnPDjDek/zivtYjfqAkDAHbL2VaYUQKilWD838v4/mPX7543bB0BZ0l/EYyfqP5BcLL7U9QRAXH+2JRGGBkCTq0Lol+oWQKZc8flqTP4/+jiPB2xSEkDgM9MVpVv9Pw==\",\"dtype\":\"float64\",\"order\":\"little\",\"shape\":[20]},\"crypto_cluster\":[3,3,3,3,3,3,3,3,3,3,3,3,3,3,3,3,3,3,3,3],\"index\":[\"illuvium\",\"hackenai\",\"solana\",\"cardano\",\"avalanche-2\",\"cosmos\",\"stellar\",\"thorchain\",\"monero\",\"fantom\",\"tezos\",\"flow\",\"flux\",\"huobi-token\",\"augur\",\"api3\",\"antimatter\",\"aave\",\"audius\",\"arweave\"],\"variance\":{\"__ndarray__\":\"Jhv5kdo38D+mgjZ6Sjj3P1F3Zpf7x/U/v3cReu5V8z+QMlje3hb7P0KTuW9BEfE/iUWcy0+O7j/DSfLo2tPzP4lCtODbgeY/qJvBkx+V9T+TodY3UVDwPxshHT/EMO8/M2kkD0BfAED0kIxLNNj0P/uDp/1SEwJAssxFDEjs+z8xwXjFdwD0P7zgIxoCUOg/wV6tEK5jAkDpVmMhjcD7Pw==\",\"dtype\":\"float64\",\"order\":\"little\",\"shape\":[20]}},\"selected\":{\"id\":\"3598\"},\"selection_policy\":{\"id\":\"3619\"}},\"id\":\"3597\",\"type\":\"ColumnDataSource\"},{\"attributes\":{\"label\":{\"value\":\"0\"},\"renderers\":[{\"id\":\"3536\"}]},\"id\":\"3549\",\"type\":\"LegendItem\"},{\"attributes\":{\"data_source\":{\"id\":\"3530\"},\"glyph\":{\"id\":\"3533\"},\"hover_glyph\":null,\"muted_glyph\":{\"id\":\"3535\"},\"nonselection_glyph\":{\"id\":\"3534\"},\"selection_glyph\":{\"id\":\"3550\"},\"view\":{\"id\":\"3537\"}},\"id\":\"3536\",\"type\":\"GlyphRenderer\"},{\"attributes\":{\"active_multi\":null,\"tools\":[{\"id\":\"3490\"},{\"id\":\"3511\"},{\"id\":\"3512\"},{\"id\":\"3513\"},{\"id\":\"3514\"},{\"id\":\"3515\"}]},\"id\":\"3517\",\"type\":\"Toolbar\"},{\"attributes\":{\"fill_color\":{\"value\":\"#e5ae38\"},\"line_color\":{\"value\":\"#e5ae38\"},\"size\":{\"value\":5.477225575051661},\"x\":{\"field\":\"annual_return\"},\"y\":{\"field\":\"variance\"}},\"id\":\"3576\",\"type\":\"Scatter\"},{\"attributes\":{},\"id\":\"3593\",\"type\":\"UnionRenderers\"},{\"attributes\":{\"source\":{\"id\":\"3573\"}},\"id\":\"3580\",\"type\":\"CDSView\"},{\"attributes\":{\"end\":41.896282108480364,\"reset_end\":41.896282108480364,\"reset_start\":-11.08272773438386,\"start\":-11.08272773438386,\"tags\":[[[\"annual_return\",\"annual_return\",null]]]},\"id\":\"3488\",\"type\":\"Range1d\"},{\"attributes\":{\"overlay\":{\"id\":\"3516\"}},\"id\":\"3514\",\"type\":\"BoxZoomTool\"},{\"attributes\":{\"data\":{\"annual_return\":{\"__ndarray__\":\"cvrFagrnQ0A=\",\"dtype\":\"float64\",\"order\":\"little\",\"shape\":[1]},\"crypto_cluster\":[1],\"index\":[\"spell-token\"],\"variance\":{\"__ndarray__\":\"asoIQOzVJ0A=\",\"dtype\":\"float64\",\"order\":\"little\",\"shape\":[1]}},\"selected\":{\"id\":\"3552\"},\"selection_policy\":{\"id\":\"3569\"}},\"id\":\"3551\",\"type\":\"ColumnDataSource\"},{\"attributes\":{\"angle\":{\"value\":0.0},\"fill_alpha\":{\"value\":1.0},\"fill_color\":{\"value\":\"#30a2da\"},\"hatch_alpha\":{\"value\":1.0},\"hatch_color\":{\"value\":\"black\"},\"hatch_scale\":{\"value\":12.0},\"hatch_weight\":{\"value\":1.0},\"line_alpha\":{\"value\":1.0},\"line_cap\":{\"value\":\"butt\"},\"line_color\":{\"value\":\"#30a2da\"},\"line_dash\":{\"value\":[]},\"line_dash_offset\":{\"value\":0},\"line_join\":{\"value\":\"bevel\"},\"line_width\":{\"value\":1},\"marker\":{\"value\":\"circle\"},\"size\":{\"value\":5.477225575051661},\"x\":{\"field\":\"annual_return\"},\"y\":{\"field\":\"variance\"}},\"id\":\"3550\",\"type\":\"Scatter\"},{\"attributes\":{\"fill_alpha\":{\"value\":0.1},\"fill_color\":{\"value\":\"#fc4f30\"},\"line_alpha\":{\"value\":0.1},\"line_color\":{\"value\":\"#fc4f30\"},\"size\":{\"value\":5.477225575051661},\"x\":{\"field\":\"annual_return\"},\"y\":{\"field\":\"variance\"}},\"id\":\"3555\",\"type\":\"Scatter\"},{\"attributes\":{},\"id\":\"3504\",\"type\":\"BasicTicker\"},{\"attributes\":{},\"id\":\"3499\",\"type\":\"LinearScale\"},{\"attributes\":{\"fill_alpha\":{\"value\":0.2},\"fill_color\":{\"value\":\"#fc4f30\"},\"line_alpha\":{\"value\":0.2},\"line_color\":{\"value\":\"#fc4f30\"},\"size\":{\"value\":5.477225575051661},\"x\":{\"field\":\"annual_return\"},\"y\":{\"field\":\"variance\"}},\"id\":\"3556\",\"type\":\"Scatter\"},{\"attributes\":{\"data_source\":{\"id\":\"3573\"},\"glyph\":{\"id\":\"3576\"},\"hover_glyph\":null,\"muted_glyph\":{\"id\":\"3578\"},\"nonselection_glyph\":{\"id\":\"3577\"},\"selection_glyph\":{\"id\":\"3596\"},\"view\":{\"id\":\"3580\"}},\"id\":\"3579\",\"type\":\"GlyphRenderer\"},{\"attributes\":{\"fill_alpha\":{\"value\":0.2},\"fill_color\":{\"value\":\"#e5ae38\"},\"line_alpha\":{\"value\":0.2},\"line_color\":{\"value\":\"#e5ae38\"},\"size\":{\"value\":5.477225575051661},\"x\":{\"field\":\"annual_return\"},\"y\":{\"field\":\"variance\"}},\"id\":\"3578\",\"type\":\"Scatter\"},{\"attributes\":{},\"id\":\"3526\",\"type\":\"BasicTickFormatter\"},{\"attributes\":{},\"id\":\"3574\",\"type\":\"Selection\"},{\"attributes\":{},\"id\":\"3531\",\"type\":\"Selection\"},{\"attributes\":{\"angle\":{\"value\":0.0},\"fill_alpha\":{\"value\":1.0},\"fill_color\":{\"value\":\"#6d904f\"},\"hatch_alpha\":{\"value\":1.0},\"hatch_color\":{\"value\":\"black\"},\"hatch_scale\":{\"value\":12.0},\"hatch_weight\":{\"value\":1.0},\"line_alpha\":{\"value\":1.0},\"line_cap\":{\"value\":\"butt\"},\"line_color\":{\"value\":\"#6d904f\"},\"line_dash\":{\"value\":[]},\"line_dash_offset\":{\"value\":0},\"line_join\":{\"value\":\"bevel\"},\"line_width\":{\"value\":1},\"marker\":{\"value\":\"circle\"},\"size\":{\"value\":5.477225575051661},\"x\":{\"field\":\"annual_return\"},\"y\":{\"field\":\"variance\"}},\"id\":\"3622\",\"type\":\"Scatter\"},{\"attributes\":{\"axis_label\":\"annual_return\",\"formatter\":{\"id\":\"3526\"},\"major_label_policy\":{\"id\":\"3524\"},\"ticker\":{\"id\":\"3504\"}},\"id\":\"3503\",\"type\":\"LinearAxis\"},{\"attributes\":{\"label\":{\"value\":\"2\"},\"renderers\":[{\"id\":\"3579\"}]},\"id\":\"3595\",\"type\":\"LegendItem\"},{\"attributes\":{},\"id\":\"3552\",\"type\":\"Selection\"},{\"attributes\":{\"text_color\":\"black\",\"text_font_size\":\"12pt\"},\"id\":\"3495\",\"type\":\"Title\"},{\"attributes\":{},\"id\":\"3619\",\"type\":\"UnionRenderers\"},{\"attributes\":{\"source\":{\"id\":\"3551\"}},\"id\":\"3558\",\"type\":\"CDSView\"},{\"attributes\":{},\"id\":\"3508\",\"type\":\"BasicTicker\"},{\"attributes\":{\"fill_alpha\":{\"value\":0.2},\"fill_color\":{\"value\":\"#6d904f\"},\"line_alpha\":{\"value\":0.2},\"line_color\":{\"value\":\"#6d904f\"},\"size\":{\"value\":5.477225575051661},\"x\":{\"field\":\"annual_return\"},\"y\":{\"field\":\"variance\"}},\"id\":\"3602\",\"type\":\"Scatter\"},{\"attributes\":{\"label\":{\"value\":\"3\"},\"renderers\":[{\"id\":\"3603\"}]},\"id\":\"3621\",\"type\":\"LegendItem\"},{\"attributes\":{},\"id\":\"3598\",\"type\":\"Selection\"},{\"attributes\":{\"axis\":{\"id\":\"3503\"},\"grid_line_color\":null,\"ticker\":null},\"id\":\"3506\",\"type\":\"Grid\"},{\"attributes\":{\"margin\":[5,5,5,5],\"name\":\"HSpacer07546\",\"sizing_mode\":\"stretch_width\"},\"id\":\"3767\",\"type\":\"Spacer\"},{\"attributes\":{\"angle\":{\"value\":0.0},\"fill_alpha\":{\"value\":1.0},\"fill_color\":{\"value\":\"#e5ae38\"},\"hatch_alpha\":{\"value\":1.0},\"hatch_color\":{\"value\":\"black\"},\"hatch_scale\":{\"value\":12.0},\"hatch_weight\":{\"value\":1.0},\"line_alpha\":{\"value\":1.0},\"line_cap\":{\"value\":\"butt\"},\"line_color\":{\"value\":\"#e5ae38\"},\"line_dash\":{\"value\":[]},\"line_dash_offset\":{\"value\":0},\"line_join\":{\"value\":\"bevel\"},\"line_width\":{\"value\":1},\"marker\":{\"value\":\"circle\"},\"size\":{\"value\":5.477225575051661},\"x\":{\"field\":\"annual_return\"},\"y\":{\"field\":\"variance\"}},\"id\":\"3596\",\"type\":\"Scatter\"},{\"attributes\":{},\"id\":\"3513\",\"type\":\"WheelZoomTool\"},{\"attributes\":{\"fill_color\":{\"value\":\"#fc4f30\"},\"line_color\":{\"value\":\"#fc4f30\"},\"size\":{\"value\":5.477225575051661},\"x\":{\"field\":\"annual_return\"},\"y\":{\"field\":\"variance\"}},\"id\":\"3554\",\"type\":\"Scatter\"},{\"attributes\":{},\"id\":\"3501\",\"type\":\"LinearScale\"},{\"attributes\":{\"fill_color\":{\"value\":\"#6d904f\"},\"line_color\":{\"value\":\"#6d904f\"},\"size\":{\"value\":5.477225575051661},\"x\":{\"field\":\"annual_return\"},\"y\":{\"field\":\"variance\"}},\"id\":\"3600\",\"type\":\"Scatter\"},{\"attributes\":{\"data_source\":{\"id\":\"3597\"},\"glyph\":{\"id\":\"3600\"},\"hover_glyph\":null,\"muted_glyph\":{\"id\":\"3602\"},\"nonselection_glyph\":{\"id\":\"3601\"},\"selection_glyph\":{\"id\":\"3622\"},\"view\":{\"id\":\"3604\"}},\"id\":\"3603\",\"type\":\"GlyphRenderer\"},{\"attributes\":{\"data_source\":{\"id\":\"3551\"},\"glyph\":{\"id\":\"3554\"},\"hover_glyph\":null,\"muted_glyph\":{\"id\":\"3556\"},\"nonselection_glyph\":{\"id\":\"3555\"},\"selection_glyph\":{\"id\":\"3572\"},\"view\":{\"id\":\"3558\"}},\"id\":\"3557\",\"type\":\"GlyphRenderer\"},{\"attributes\":{\"fill_alpha\":{\"value\":0.1},\"fill_color\":{\"value\":\"#6d904f\"},\"line_alpha\":{\"value\":0.1},\"line_color\":{\"value\":\"#6d904f\"},\"size\":{\"value\":5.477225575051661},\"x\":{\"field\":\"annual_return\"},\"y\":{\"field\":\"variance\"}},\"id\":\"3601\",\"type\":\"Scatter\"},{\"attributes\":{},\"id\":\"3524\",\"type\":\"AllLabels\"},{\"attributes\":{\"children\":[{\"id\":\"3487\"},{\"id\":\"3494\"},{\"id\":\"3767\"}],\"margin\":[0,0,0,0],\"name\":\"Row07541\",\"tags\":[\"embedded\"]},\"id\":\"3486\",\"type\":\"Row\"},{\"attributes\":{\"axis_label\":\"variance\",\"formatter\":{\"id\":\"3529\"},\"major_label_policy\":{\"id\":\"3527\"},\"ticker\":{\"id\":\"3508\"}},\"id\":\"3507\",\"type\":\"LinearAxis\"},{\"attributes\":{\"margin\":[5,5,5,5],\"name\":\"HSpacer07545\",\"sizing_mode\":\"stretch_width\"},\"id\":\"3487\",\"type\":\"Spacer\"}],\"root_ids\":[\"3486\"]},\"title\":\"Bokeh Application\",\"version\":\"2.3.3\"}};\n",
       "    var render_items = [{\"docid\":\"68e9fbb8-8b2d-4bef-a55d-66626a38bdd1\",\"root_ids\":[\"3486\"],\"roots\":{\"3486\":\"c8c88d66-c335-4fad-bf90-7319a8b0ab79\"}}];\n",
       "    root.Bokeh.embed.embed_items_notebook(docs_json, render_items);\n",
       "  }\n",
       "  if (root.Bokeh !== undefined && root.Bokeh.Panel !== undefined) {\n",
       "    embed_document(root);\n",
       "  } else {\n",
       "    var attempts = 0;\n",
       "    var timer = setInterval(function(root) {\n",
       "      if (root.Bokeh !== undefined && root.Bokeh.Panel !== undefined) {\n",
       "        clearInterval(timer);\n",
       "        embed_document(root);\n",
       "      } else if (document.readyState == \"complete\") {\n",
       "        attempts++;\n",
       "        if (attempts > 200) {\n",
       "          clearInterval(timer);\n",
       "          console.log(\"Bokeh: ERROR: Unable to run BokehJS code because BokehJS library is missing\");\n",
       "        }\n",
       "      }\n",
       "    }, 25, root)\n",
       "  }\n",
       "})(window);</script>"
      ],
      "text/plain": [
       ":NdOverlay   [crypto_cluster]\n",
       "   :Scatter   [annual_return]   (variance,index)"
      ]
     },
     "execution_count": 44,
     "metadata": {
      "application/vnd.holoviews_exec.v0+json": {
       "id": "3486"
      }
     },
     "output_type": "execute_result"
    }
   ],
   "source": [
    "# Positive institutional news clustering plot\n",
    "positive_inst_news = get_kmeans_plot(combined_ins_pos, 4)\n",
    "positive_inst_news"
   ]
  },
  {
   "cell_type": "code",
   "execution_count": 45,
   "id": "9b8b518a-82c9-49c0-b9bb-e44b8dbfd1f5",
   "metadata": {},
   "outputs": [
    {
     "name": "stderr",
     "output_type": "stream",
     "text": [
      "WARNING:param.main: text option not found for scatter plot; similar options include: []\n",
      "WARNING:param.main: text_baseline option not found for scatter plot; similar options include: []\n"
     ]
    },
    {
     "data": {},
     "metadata": {},
     "output_type": "display_data"
    },
    {
     "data": {
      "application/vnd.holoviews_exec.v0+json": "",
      "text/html": [
       "<div id='3849'>\n",
       "\n",
       "\n",
       "\n",
       "\n",
       "\n",
       "  <div class=\"bk-root\" id=\"525d088f-d060-438f-a9e5-88c0f9bf6913\" data-root-id=\"3849\"></div>\n",
       "</div>\n",
       "<script type=\"application/javascript\">(function(root) {\n",
       "  function embed_document(root) {\n",
       "    var docs_json = {\"a4d342e7-e0a4-4203-9cc9-ae62d188529a\":{\"defs\":[{\"extends\":null,\"module\":null,\"name\":\"ReactiveHTML1\",\"overrides\":[],\"properties\":[]},{\"extends\":null,\"module\":null,\"name\":\"FlexBox1\",\"overrides\":[],\"properties\":[{\"default\":\"flex-start\",\"kind\":null,\"name\":\"align_content\"},{\"default\":\"flex-start\",\"kind\":null,\"name\":\"align_items\"},{\"default\":\"row\",\"kind\":null,\"name\":\"flex_direction\"},{\"default\":\"wrap\",\"kind\":null,\"name\":\"flex_wrap\"},{\"default\":\"flex-start\",\"kind\":null,\"name\":\"justify_content\"}]},{\"extends\":null,\"module\":null,\"name\":\"TemplateActions1\",\"overrides\":[],\"properties\":[{\"default\":0,\"kind\":null,\"name\":\"open_modal\"},{\"default\":0,\"kind\":null,\"name\":\"close_modal\"}]},{\"extends\":null,\"module\":null,\"name\":\"MaterialTemplateActions1\",\"overrides\":[],\"properties\":[{\"default\":0,\"kind\":null,\"name\":\"open_modal\"},{\"default\":0,\"kind\":null,\"name\":\"close_modal\"}]}],\"roots\":{\"references\":[{\"attributes\":{},\"id\":\"3889\",\"type\":\"BasicTickFormatter\"},{\"attributes\":{\"bottom_units\":\"screen\",\"fill_alpha\":0.5,\"fill_color\":\"lightgrey\",\"left_units\":\"screen\",\"level\":\"overlay\",\"line_alpha\":1.0,\"line_color\":\"black\",\"line_dash\":[4,4],\"line_width\":2,\"right_units\":\"screen\",\"syncable\":false,\"top_units\":\"screen\"},\"id\":\"3879\",\"type\":\"BoxAnnotation\"},{\"attributes\":{},\"id\":\"3874\",\"type\":\"SaveTool\"},{\"attributes\":{},\"id\":\"3876\",\"type\":\"WheelZoomTool\"},{\"attributes\":{\"axis_label\":\"annual_return\",\"formatter\":{\"id\":\"3889\"},\"major_label_policy\":{\"id\":\"3887\"},\"ticker\":{\"id\":\"3867\"}},\"id\":\"3866\",\"type\":\"LinearAxis\"},{\"attributes\":{\"fill_alpha\":{\"value\":0.2},\"fill_color\":{\"value\":\"#30a2da\"},\"line_alpha\":{\"value\":0.2},\"line_color\":{\"value\":\"#30a2da\"},\"size\":{\"value\":5.477225575051661},\"x\":{\"field\":\"annual_return\"},\"y\":{\"field\":\"variance\"}},\"id\":\"3898\",\"type\":\"Scatter\"},{\"attributes\":{\"fill_alpha\":{\"value\":0.1},\"fill_color\":{\"value\":\"#6d904f\"},\"line_alpha\":{\"value\":0.1},\"line_color\":{\"value\":\"#6d904f\"},\"size\":{\"value\":5.477225575051661},\"x\":{\"field\":\"annual_return\"},\"y\":{\"field\":\"variance\"}},\"id\":\"3964\",\"type\":\"Scatter\"},{\"attributes\":{\"data\":{\"annual_return\":{\"__ndarray__\":\"byuBQGODCUA1//h7pcwUQCUMK5Hm8Ok/kCTVdIWX/D/ijd7Rmdj3P+4JWOJEa8c/OZ+qNjUvEECzXhFcaRLFP3V659giXBBA4FWVv6CEFkCrSFlttGbVv8F6QAVHlBFA706x5qj71L+L04S6BAOxv8JNBPfYiAhAdtBL41kfCEBR3Kc8+D0QQJ+vCdmpXg1APVX35TDhEEA=\",\"dtype\":\"float64\",\"order\":\"little\",\"shape\":[19]},\"crypto_cluster\":[0,0,0,0,0,0,0,0,0,0,0,0,0,0,0,0,0,0,0],\"index\":[\"illuvium\",\"hackenai\",\"ethereum\",\"matic-network\",\"axie-infinity\",\"thorchain\",\"sushi\",\"monero\",\"waves\",\"harmony\",\"flow\",\"flux\",\"yearn-finance\",\"augur\",\"api3\",\"1inch\",\"maker\",\"lido-dao\",\"audius\"],\"variance\":{\"__ndarray__\":\"cOwGwWykAEA6yzGHTDsDQNbiVmK1zfc/v9XvvpfL+z9/1MfcNuoBQG0xOBpH4QFAs1WE1OWSAUDlgM0eXxQGQM/wuT3ZEQFAOrja1O+jBEBHPqIXnskCQKVWXplc7Pw/q8ocKQyxAkDY8MlPgeMEQAlHmpMNjghAS/V3Jc5+AkB6lXhEJaL3P1E/YUtanxVA07LbINd6AkA=\",\"dtype\":\"float64\",\"order\":\"little\",\"shape\":[19]}},\"selected\":{\"id\":\"3894\"},\"selection_policy\":{\"id\":\"3909\"}},\"id\":\"3893\",\"type\":\"ColumnDataSource\"},{\"attributes\":{\"fill_alpha\":{\"value\":0.1},\"fill_color\":{\"value\":\"#30a2da\"},\"line_alpha\":{\"value\":0.1},\"line_color\":{\"value\":\"#30a2da\"},\"size\":{\"value\":5.477225575051661},\"x\":{\"field\":\"annual_return\"},\"y\":{\"field\":\"variance\"}},\"id\":\"3897\",\"type\":\"Scatter\"},{\"attributes\":{\"data\":{\"annual_return\":{\"__ndarray__\":\"rPOyb51ZKUCXvbB82W0gQMSS/NRpDCFAN5iXukjBK0ByPdZQzUwfQP57i4N3uSRA5CEC793KMkA=\",\"dtype\":\"float64\",\"order\":\"little\",\"shape\":[7]},\"crypto_cluster\":[3,3,3,3,3,3,3],\"index\":[\"spell-token\",\"solana\",\"compound-governance-token\",\"uniswap\",\"aave\",\"arweave\",\"bonfida\"],\"variance\":{\"__ndarray__\":\"IJpT9XHT/T/2sjVfRMIAQEHvRMGpgf4/gxbHoRqrDEBGU55qoLMAQPVELqtdSAFAD1KvV8+mEkA=\",\"dtype\":\"float64\",\"order\":\"little\",\"shape\":[7]}},\"selected\":{\"id\":\"3961\"},\"selection_policy\":{\"id\":\"3982\"}},\"id\":\"3960\",\"type\":\"ColumnDataSource\"},{\"attributes\":{},\"id\":\"3894\",\"type\":\"Selection\"},{\"attributes\":{\"click_policy\":\"mute\",\"items\":[{\"id\":\"3912\"},{\"id\":\"3934\"},{\"id\":\"3958\"},{\"id\":\"3984\"}],\"location\":[0,0],\"title\":\"crypto_cluster\"},\"id\":\"3911\",\"type\":\"Legend\"},{\"attributes\":{},\"id\":\"3909\",\"type\":\"UnionRenderers\"},{\"attributes\":{\"active_multi\":null,\"tools\":[{\"id\":\"3853\"},{\"id\":\"3874\"},{\"id\":\"3875\"},{\"id\":\"3876\"},{\"id\":\"3877\"},{\"id\":\"3878\"}]},\"id\":\"3880\",\"type\":\"Toolbar\"},{\"attributes\":{},\"id\":\"3982\",\"type\":\"UnionRenderers\"},{\"attributes\":{\"below\":[{\"id\":\"3866\"}],\"center\":[{\"id\":\"3869\"},{\"id\":\"3873\"}],\"height\":300,\"left\":[{\"id\":\"3870\"}],\"margin\":[5,5,5,5],\"min_border_bottom\":10,\"min_border_left\":10,\"min_border_right\":10,\"min_border_top\":10,\"renderers\":[{\"id\":\"3899\"},{\"id\":\"3920\"},{\"id\":\"3942\"},{\"id\":\"3966\"}],\"right\":[{\"id\":\"3911\"}],\"sizing_mode\":\"fixed\",\"title\":{\"id\":\"3858\"},\"toolbar\":{\"id\":\"3880\"},\"width\":700,\"x_range\":{\"id\":\"3851\"},\"x_scale\":{\"id\":\"3862\"},\"y_range\":{\"id\":\"3852\"},\"y_scale\":{\"id\":\"3864\"}},\"id\":\"3857\",\"subtype\":\"Figure\",\"type\":\"Plot\"},{\"attributes\":{},\"id\":\"3875\",\"type\":\"PanTool\"},{\"attributes\":{\"fill_alpha\":{\"value\":0.1},\"fill_color\":{\"value\":\"#e5ae38\"},\"line_alpha\":{\"value\":0.1},\"line_color\":{\"value\":\"#e5ae38\"},\"size\":{\"value\":5.477225575051661},\"x\":{\"field\":\"annual_return\"},\"y\":{\"field\":\"variance\"}},\"id\":\"3940\",\"type\":\"Scatter\"},{\"attributes\":{},\"id\":\"3961\",\"type\":\"Selection\"},{\"attributes\":{\"angle\":{\"value\":0.0},\"fill_alpha\":{\"value\":1.0},\"fill_color\":{\"value\":\"#fc4f30\"},\"hatch_alpha\":{\"value\":1.0},\"hatch_color\":{\"value\":\"black\"},\"hatch_scale\":{\"value\":12.0},\"hatch_weight\":{\"value\":1.0},\"line_alpha\":{\"value\":1.0},\"line_cap\":{\"value\":\"butt\"},\"line_color\":{\"value\":\"#fc4f30\"},\"line_dash\":{\"value\":[]},\"line_dash_offset\":{\"value\":0},\"line_join\":{\"value\":\"bevel\"},\"line_width\":{\"value\":1},\"marker\":{\"value\":\"circle\"},\"size\":{\"value\":5.477225575051661},\"x\":{\"field\":\"annual_return\"},\"y\":{\"field\":\"variance\"}},\"id\":\"3935\",\"type\":\"Scatter\"},{\"attributes\":{\"axis\":{\"id\":\"3870\"},\"dimension\":1,\"grid_line_color\":null,\"ticker\":null},\"id\":\"3873\",\"type\":\"Grid\"},{\"attributes\":{\"data_source\":{\"id\":\"3960\"},\"glyph\":{\"id\":\"3963\"},\"hover_glyph\":null,\"muted_glyph\":{\"id\":\"3965\"},\"nonselection_glyph\":{\"id\":\"3964\"},\"selection_glyph\":{\"id\":\"3985\"},\"view\":{\"id\":\"3967\"}},\"id\":\"3966\",\"type\":\"GlyphRenderer\"},{\"attributes\":{\"text_color\":\"black\",\"text_font_size\":\"12pt\"},\"id\":\"3858\",\"type\":\"Title\"},{\"attributes\":{},\"id\":\"3887\",\"type\":\"AllLabels\"},{\"attributes\":{\"overlay\":{\"id\":\"3879\"}},\"id\":\"3877\",\"type\":\"BoxZoomTool\"},{\"attributes\":{},\"id\":\"3915\",\"type\":\"Selection\"},{\"attributes\":{},\"id\":\"3862\",\"type\":\"LinearScale\"},{\"attributes\":{},\"id\":\"3956\",\"type\":\"UnionRenderers\"},{\"attributes\":{},\"id\":\"3867\",\"type\":\"BasicTicker\"},{\"attributes\":{\"margin\":[5,5,5,5],\"name\":\"HSpacer08335\",\"sizing_mode\":\"stretch_width\"},\"id\":\"4130\",\"type\":\"Spacer\"},{\"attributes\":{\"fill_color\":{\"value\":\"#30a2da\"},\"line_color\":{\"value\":\"#30a2da\"},\"size\":{\"value\":5.477225575051661},\"x\":{\"field\":\"annual_return\"},\"y\":{\"field\":\"variance\"}},\"id\":\"3896\",\"type\":\"Scatter\"},{\"attributes\":{\"fill_alpha\":{\"value\":0.2},\"fill_color\":{\"value\":\"#fc4f30\"},\"line_alpha\":{\"value\":0.2},\"line_color\":{\"value\":\"#fc4f30\"},\"size\":{\"value\":5.477225575051661},\"x\":{\"field\":\"annual_return\"},\"y\":{\"field\":\"variance\"}},\"id\":\"3919\",\"type\":\"Scatter\"},{\"attributes\":{},\"id\":\"3864\",\"type\":\"LinearScale\"},{\"attributes\":{},\"id\":\"3878\",\"type\":\"ResetTool\"},{\"attributes\":{},\"id\":\"3892\",\"type\":\"BasicTickFormatter\"},{\"attributes\":{\"source\":{\"id\":\"3960\"}},\"id\":\"3967\",\"type\":\"CDSView\"},{\"attributes\":{\"data_source\":{\"id\":\"3914\"},\"glyph\":{\"id\":\"3917\"},\"hover_glyph\":null,\"muted_glyph\":{\"id\":\"3919\"},\"nonselection_glyph\":{\"id\":\"3918\"},\"selection_glyph\":{\"id\":\"3935\"},\"view\":{\"id\":\"3921\"}},\"id\":\"3920\",\"type\":\"GlyphRenderer\"},{\"attributes\":{},\"id\":\"3871\",\"type\":\"BasicTicker\"},{\"attributes\":{\"fill_color\":{\"value\":\"#6d904f\"},\"line_color\":{\"value\":\"#6d904f\"},\"size\":{\"value\":5.477225575051661},\"x\":{\"field\":\"annual_return\"},\"y\":{\"field\":\"variance\"}},\"id\":\"3963\",\"type\":\"Scatter\"},{\"attributes\":{\"label\":{\"value\":\"3\"},\"renderers\":[{\"id\":\"3966\"}]},\"id\":\"3984\",\"type\":\"LegendItem\"},{\"attributes\":{\"label\":{\"value\":\"2\"},\"renderers\":[{\"id\":\"3942\"}]},\"id\":\"3958\",\"type\":\"LegendItem\"},{\"attributes\":{\"children\":[{\"id\":\"3850\"},{\"id\":\"3857\"},{\"id\":\"4130\"}],\"margin\":[0,0,0,0],\"name\":\"Row08330\",\"tags\":[\"embedded\"]},\"id\":\"3849\",\"type\":\"Row\"},{\"attributes\":{\"axis_label\":\"variance\",\"formatter\":{\"id\":\"3892\"},\"major_label_policy\":{\"id\":\"3890\"},\"ticker\":{\"id\":\"3871\"}},\"id\":\"3870\",\"type\":\"LinearAxis\"},{\"attributes\":{},\"id\":\"3890\",\"type\":\"AllLabels\"},{\"attributes\":{\"fill_color\":{\"value\":\"#fc4f30\"},\"line_color\":{\"value\":\"#fc4f30\"},\"size\":{\"value\":5.477225575051661},\"x\":{\"field\":\"annual_return\"},\"y\":{\"field\":\"variance\"}},\"id\":\"3917\",\"type\":\"Scatter\"},{\"attributes\":{\"angle\":{\"value\":0.0},\"fill_alpha\":{\"value\":1.0},\"fill_color\":{\"value\":\"#e5ae38\"},\"hatch_alpha\":{\"value\":1.0},\"hatch_color\":{\"value\":\"black\"},\"hatch_scale\":{\"value\":12.0},\"hatch_weight\":{\"value\":1.0},\"line_alpha\":{\"value\":1.0},\"line_cap\":{\"value\":\"butt\"},\"line_color\":{\"value\":\"#e5ae38\"},\"line_dash\":{\"value\":[]},\"line_dash_offset\":{\"value\":0},\"line_join\":{\"value\":\"bevel\"},\"line_width\":{\"value\":1},\"marker\":{\"value\":\"circle\"},\"size\":{\"value\":5.477225575051661},\"x\":{\"field\":\"annual_return\"},\"y\":{\"field\":\"variance\"}},\"id\":\"3959\",\"type\":\"Scatter\"},{\"attributes\":{\"margin\":[5,5,5,5],\"name\":\"HSpacer08334\",\"sizing_mode\":\"stretch_width\"},\"id\":\"3850\",\"type\":\"Spacer\"},{\"attributes\":{\"fill_alpha\":{\"value\":0.2},\"fill_color\":{\"value\":\"#e5ae38\"},\"line_alpha\":{\"value\":0.2},\"line_color\":{\"value\":\"#e5ae38\"},\"size\":{\"value\":5.477225575051661},\"x\":{\"field\":\"annual_return\"},\"y\":{\"field\":\"variance\"}},\"id\":\"3941\",\"type\":\"Scatter\"},{\"attributes\":{\"angle\":{\"value\":0.0},\"fill_alpha\":{\"value\":1.0},\"fill_color\":{\"value\":\"#6d904f\"},\"hatch_alpha\":{\"value\":1.0},\"hatch_color\":{\"value\":\"black\"},\"hatch_scale\":{\"value\":12.0},\"hatch_weight\":{\"value\":1.0},\"line_alpha\":{\"value\":1.0},\"line_cap\":{\"value\":\"butt\"},\"line_color\":{\"value\":\"#6d904f\"},\"line_dash\":{\"value\":[]},\"line_dash_offset\":{\"value\":0},\"line_join\":{\"value\":\"bevel\"},\"line_width\":{\"value\":1},\"marker\":{\"value\":\"circle\"},\"size\":{\"value\":5.477225575051661},\"x\":{\"field\":\"annual_return\"},\"y\":{\"field\":\"variance\"}},\"id\":\"3985\",\"type\":\"Scatter\"},{\"attributes\":{\"fill_alpha\":{\"value\":0.1},\"fill_color\":{\"value\":\"#fc4f30\"},\"line_alpha\":{\"value\":0.1},\"line_color\":{\"value\":\"#fc4f30\"},\"size\":{\"value\":5.477225575051661},\"x\":{\"field\":\"annual_return\"},\"y\":{\"field\":\"variance\"}},\"id\":\"3918\",\"type\":\"Scatter\"},{\"attributes\":{\"data_source\":{\"id\":\"3936\"},\"glyph\":{\"id\":\"3939\"},\"hover_glyph\":null,\"muted_glyph\":{\"id\":\"3941\"},\"nonselection_glyph\":{\"id\":\"3940\"},\"selection_glyph\":{\"id\":\"3959\"},\"view\":{\"id\":\"3943\"}},\"id\":\"3942\",\"type\":\"GlyphRenderer\"},{\"attributes\":{\"source\":{\"id\":\"3914\"}},\"id\":\"3921\",\"type\":\"CDSView\"},{\"attributes\":{},\"id\":\"3932\",\"type\":\"UnionRenderers\"},{\"attributes\":{\"callback\":null,\"renderers\":[{\"id\":\"3899\"},{\"id\":\"3920\"},{\"id\":\"3942\"},{\"id\":\"3966\"}],\"tags\":[\"hv_created\"],\"tooltips\":[[\"crypto_cluster\",\"@{crypto_cluster}\"],[\"annual_return\",\"@{annual_return}\"],[\"variance\",\"@{variance}\"],[\"index\",\"@{index}\"]]},\"id\":\"3853\",\"type\":\"HoverTool\"},{\"attributes\":{\"fill_alpha\":{\"value\":0.2},\"fill_color\":{\"value\":\"#6d904f\"},\"line_alpha\":{\"value\":0.2},\"line_color\":{\"value\":\"#6d904f\"},\"size\":{\"value\":5.477225575051661},\"x\":{\"field\":\"annual_return\"},\"y\":{\"field\":\"variance\"}},\"id\":\"3965\",\"type\":\"Scatter\"},{\"attributes\":{\"data_source\":{\"id\":\"3893\"},\"glyph\":{\"id\":\"3896\"},\"hover_glyph\":null,\"muted_glyph\":{\"id\":\"3898\"},\"nonselection_glyph\":{\"id\":\"3897\"},\"selection_glyph\":{\"id\":\"3913\"},\"view\":{\"id\":\"3900\"}},\"id\":\"3899\",\"type\":\"GlyphRenderer\"},{\"attributes\":{\"label\":{\"value\":\"0\"},\"renderers\":[{\"id\":\"3899\"}]},\"id\":\"3912\",\"type\":\"LegendItem\"},{\"attributes\":{\"label\":{\"value\":\"1\"},\"renderers\":[{\"id\":\"3920\"}]},\"id\":\"3934\",\"type\":\"LegendItem\"},{\"attributes\":{\"source\":{\"id\":\"3936\"}},\"id\":\"3943\",\"type\":\"CDSView\"},{\"attributes\":{\"angle\":{\"value\":0.0},\"fill_alpha\":{\"value\":1.0},\"fill_color\":{\"value\":\"#30a2da\"},\"hatch_alpha\":{\"value\":1.0},\"hatch_color\":{\"value\":\"black\"},\"hatch_scale\":{\"value\":12.0},\"hatch_weight\":{\"value\":1.0},\"line_alpha\":{\"value\":1.0},\"line_cap\":{\"value\":\"butt\"},\"line_color\":{\"value\":\"#30a2da\"},\"line_dash\":{\"value\":[]},\"line_dash_offset\":{\"value\":0},\"line_join\":{\"value\":\"bevel\"},\"line_width\":{\"value\":1},\"marker\":{\"value\":\"circle\"},\"size\":{\"value\":5.477225575051661},\"x\":{\"field\":\"annual_return\"},\"y\":{\"field\":\"variance\"}},\"id\":\"3913\",\"type\":\"Scatter\"},{\"attributes\":{\"axis\":{\"id\":\"3866\"},\"grid_line_color\":null,\"ticker\":null},\"id\":\"3869\",\"type\":\"Grid\"},{\"attributes\":{},\"id\":\"3937\",\"type\":\"Selection\"},{\"attributes\":{\"source\":{\"id\":\"3893\"}},\"id\":\"3900\",\"type\":\"CDSView\"},{\"attributes\":{\"fill_color\":{\"value\":\"#e5ae38\"},\"line_color\":{\"value\":\"#e5ae38\"},\"size\":{\"value\":5.477225575051661},\"x\":{\"field\":\"annual_return\"},\"y\":{\"field\":\"variance\"}},\"id\":\"3939\",\"type\":\"Scatter\"},{\"attributes\":{\"end\":44.393061493758736,\"reset_end\":44.393061493758736,\"reset_start\":-12.836630276422687,\"start\":-12.836630276422687,\"tags\":[[[\"annual_return\",\"annual_return\",null]]]},\"id\":\"3851\",\"type\":\"Range1d\"},{\"attributes\":{\"data\":{\"annual_return\":{\"__ndarray__\":\"oYsNZ7YnJcCFKCt1GZ4EwHfIS5u4ARXAgwqPp2cR/L8xJoaX9PQRwMNA/sxWuBHAlXlTprlYIsAO6Hx8VqoUwPInAsI8HBHAAzxqDQC3GMATohec1TP4v1t8grYIpBrAI0cHXhUIIcDQGwPoxPQKwAlo3YjSzAvAuNqnJknSFsCPFySCcIYRwENMAnAK2B/Ahi7pbRjEFsAUWwL9a1EIwJAwAnBvVhjAVFQrb6/8B8DpBHjjDzAhwKCzW16nVwPAR8FWstm4+b8=\",\"dtype\":\"float64\",\"order\":\"little\",\"shape\":[25]},\"crypto_cluster\":[2,2,2,2,2,2,2,2,2,2,2,2,2,2,2,2,2,2,2,2,2,2,2,2,2],\"index\":[\"polyswarm\",\"bitcoin\",\"polkadot\",\"cardano\",\"dogecoin\",\"terra-luna\",\"avalanche-2\",\"litecoin\",\"bitcoin-cash\",\"cosmos\",\"filecoin\",\"stellar\",\"vechain\",\"fantom\",\"algorand\",\"tezos\",\"zilliqa\",\"chainlink\",\"band-protocol\",\"huobi-token\",\"bitcoin-gold\",\"curve-dao-token\",\"dia-data\",\"antimatter\",\"serum\"],\"variance\":{\"__ndarray__\":\"e8mkGx9M9z9b9w27TajtPy3fLmxCkP0/zGh7/U+v+D9teA+5wf7+PyY9BrMYt/4/ZnZgJg15+T+h15kWMxD7P9nJ1o48NPw/HEw2gasy/j+17BJaLxQBQKHJ4J9hzfg/iSmMGg/W+j/FC3LFRj4EQEdLx+tfIfo/PHBRe1fn/D+YpPLDCI7/P4MEdK/2dfw/s6NqDdcb+T/NKRrik//+PxiZUc0vNPU/AgaFX+2gAEDzO4xA1tf7P8Rr4qM8/gRAQVUZ6H+zAUA=\",\"dtype\":\"float64\",\"order\":\"little\",\"shape\":[25]}},\"selected\":{\"id\":\"3937\"},\"selection_policy\":{\"id\":\"3956\"}},\"id\":\"3936\",\"type\":\"ColumnDataSource\"},{\"attributes\":{\"data\":{\"annual_return\":{\"__ndarray__\":\"LtofvSYRRUA=\",\"dtype\":\"float64\",\"order\":\"little\",\"shape\":[1]},\"crypto_cluster\":[1],\"index\":[\"mercurial\"],\"variance\":{\"__ndarray__\":\"MchgVL4VJEA=\",\"dtype\":\"float64\",\"order\":\"little\",\"shape\":[1]}},\"selected\":{\"id\":\"3915\"},\"selection_policy\":{\"id\":\"3932\"}},\"id\":\"3914\",\"type\":\"ColumnDataSource\"},{\"attributes\":{\"end\":10.954035009347473,\"reset_end\":10.954035009347473,\"reset_start\":0.015227592652893973,\"start\":0.015227592652893973,\"tags\":[[[\"variance\",\"variance\",null]]]},\"id\":\"3852\",\"type\":\"Range1d\"}],\"root_ids\":[\"3849\"]},\"title\":\"Bokeh Application\",\"version\":\"2.3.3\"}};\n",
       "    var render_items = [{\"docid\":\"a4d342e7-e0a4-4203-9cc9-ae62d188529a\",\"root_ids\":[\"3849\"],\"roots\":{\"3849\":\"525d088f-d060-438f-a9e5-88c0f9bf6913\"}}];\n",
       "    root.Bokeh.embed.embed_items_notebook(docs_json, render_items);\n",
       "  }\n",
       "  if (root.Bokeh !== undefined && root.Bokeh.Panel !== undefined) {\n",
       "    embed_document(root);\n",
       "  } else {\n",
       "    var attempts = 0;\n",
       "    var timer = setInterval(function(root) {\n",
       "      if (root.Bokeh !== undefined && root.Bokeh.Panel !== undefined) {\n",
       "        clearInterval(timer);\n",
       "        embed_document(root);\n",
       "      } else if (document.readyState == \"complete\") {\n",
       "        attempts++;\n",
       "        if (attempts > 200) {\n",
       "          clearInterval(timer);\n",
       "          console.log(\"Bokeh: ERROR: Unable to run BokehJS code because BokehJS library is missing\");\n",
       "        }\n",
       "      }\n",
       "    }, 25, root)\n",
       "  }\n",
       "})(window);</script>"
      ],
      "text/plain": [
       ":NdOverlay   [crypto_cluster]\n",
       "   :Scatter   [annual_return]   (variance,index)"
      ]
     },
     "execution_count": 45,
     "metadata": {
      "application/vnd.holoviews_exec.v0+json": {
       "id": "3849"
      }
     },
     "output_type": "execute_result"
    }
   ],
   "source": [
    "# Negative institutional news clustering plot\n",
    "negative_inst_news = get_kmeans_plot(combined_ins_neg, 4)\n",
    "negative_inst_news"
   ]
  },
  {
   "cell_type": "code",
   "execution_count": 46,
   "id": "fdc0e702-d29b-44cd-aa56-82ebbca76d99",
   "metadata": {},
   "outputs": [
    {
     "name": "stderr",
     "output_type": "stream",
     "text": [
      "WARNING:param.main: text option not found for scatter plot; similar options include: []\n",
      "WARNING:param.main: text_baseline option not found for scatter plot; similar options include: []\n"
     ]
    },
    {
     "data": {},
     "metadata": {},
     "output_type": "display_data"
    },
    {
     "data": {
      "application/vnd.holoviews_exec.v0+json": "",
      "text/html": [
       "<div id='4212'>\n",
       "\n",
       "\n",
       "\n",
       "\n",
       "\n",
       "  <div class=\"bk-root\" id=\"9f9d20ed-6f21-4234-9a99-f80cd544518f\" data-root-id=\"4212\"></div>\n",
       "</div>\n",
       "<script type=\"application/javascript\">(function(root) {\n",
       "  function embed_document(root) {\n",
       "    var docs_json = {\"1d9fb8e6-ebe6-465c-978e-16b8497248e4\":{\"defs\":[{\"extends\":null,\"module\":null,\"name\":\"ReactiveHTML1\",\"overrides\":[],\"properties\":[]},{\"extends\":null,\"module\":null,\"name\":\"FlexBox1\",\"overrides\":[],\"properties\":[{\"default\":\"flex-start\",\"kind\":null,\"name\":\"align_content\"},{\"default\":\"flex-start\",\"kind\":null,\"name\":\"align_items\"},{\"default\":\"row\",\"kind\":null,\"name\":\"flex_direction\"},{\"default\":\"wrap\",\"kind\":null,\"name\":\"flex_wrap\"},{\"default\":\"flex-start\",\"kind\":null,\"name\":\"justify_content\"}]},{\"extends\":null,\"module\":null,\"name\":\"TemplateActions1\",\"overrides\":[],\"properties\":[{\"default\":0,\"kind\":null,\"name\":\"open_modal\"},{\"default\":0,\"kind\":null,\"name\":\"close_modal\"}]},{\"extends\":null,\"module\":null,\"name\":\"MaterialTemplateActions1\",\"overrides\":[],\"properties\":[{\"default\":0,\"kind\":null,\"name\":\"open_modal\"},{\"default\":0,\"kind\":null,\"name\":\"close_modal\"}]}],\"roots\":{\"references\":[{\"attributes\":{\"angle\":{\"value\":0.0},\"fill_alpha\":{\"value\":1.0},\"fill_color\":{\"value\":\"#e5ae38\"},\"hatch_alpha\":{\"value\":1.0},\"hatch_color\":{\"value\":\"black\"},\"hatch_scale\":{\"value\":12.0},\"hatch_weight\":{\"value\":1.0},\"line_alpha\":{\"value\":1.0},\"line_cap\":{\"value\":\"butt\"},\"line_color\":{\"value\":\"#e5ae38\"},\"line_dash\":{\"value\":[]},\"line_dash_offset\":{\"value\":0},\"line_join\":{\"value\":\"bevel\"},\"line_width\":{\"value\":1},\"marker\":{\"value\":\"circle\"},\"size\":{\"value\":5.477225575051661},\"x\":{\"field\":\"annual_return\"},\"y\":{\"field\":\"variance\"}},\"id\":\"4322\",\"type\":\"Scatter\"},{\"attributes\":{\"angle\":{\"value\":0.0},\"fill_alpha\":{\"value\":1.0},\"fill_color\":{\"value\":\"#30a2da\"},\"hatch_alpha\":{\"value\":1.0},\"hatch_color\":{\"value\":\"black\"},\"hatch_scale\":{\"value\":12.0},\"hatch_weight\":{\"value\":1.0},\"line_alpha\":{\"value\":1.0},\"line_cap\":{\"value\":\"butt\"},\"line_color\":{\"value\":\"#30a2da\"},\"line_dash\":{\"value\":[]},\"line_dash_offset\":{\"value\":0},\"line_join\":{\"value\":\"bevel\"},\"line_width\":{\"value\":1},\"marker\":{\"value\":\"circle\"},\"size\":{\"value\":5.477225575051661},\"x\":{\"field\":\"annual_return\"},\"y\":{\"field\":\"variance\"}},\"id\":\"4276\",\"type\":\"Scatter\"},{\"attributes\":{\"fill_color\":{\"value\":\"#e5ae38\"},\"line_color\":{\"value\":\"#e5ae38\"},\"size\":{\"value\":5.477225575051661},\"x\":{\"field\":\"annual_return\"},\"y\":{\"field\":\"variance\"}},\"id\":\"4302\",\"type\":\"Scatter\"},{\"attributes\":{},\"id\":\"4295\",\"type\":\"UnionRenderers\"},{\"attributes\":{\"fill_alpha\":{\"value\":0.2},\"fill_color\":{\"value\":\"#fc4f30\"},\"line_alpha\":{\"value\":0.2},\"line_color\":{\"value\":\"#fc4f30\"},\"size\":{\"value\":5.477225575051661},\"x\":{\"field\":\"annual_return\"},\"y\":{\"field\":\"variance\"}},\"id\":\"4282\",\"type\":\"Scatter\"},{\"attributes\":{\"data\":{\"annual_return\":{\"__ndarray__\":\"wohGP0v10D8BUu78DRL5v77xrcK/NBPA3EAp5bQIEMA70DdMpigQwK61cafoPw3AVztjo0yq479kl1j5wacTwOYydFRAiMQ/9BndTFIyBsCAfeQSv3EHwG06W09EARLAsD3kp+dIEsCgb6GTgb+/v09iTQTR9wzAppZXVU7bE8BGilOufQANwAAe/aK3+xDAsym9vGS15r9mTC+cJtX+v6Wc28fukRTA\",\"dtype\":\"float64\",\"order\":\"little\",\"shape\":[21]},\"crypto_cluster\":[1,1,1,1,1,1,1,1,1,1,1,1,1,1,1,1,1,1,1,1,1],\"index\":[\"mercurial\",\"bitcoin\",\"cardano\",\"dogecoin\",\"litecoin\",\"bitcoin-cash\",\"matic-network\",\"vechain\",\"thorchain\",\"sushi\",\"monero\",\"fantom\",\"tezos\",\"waves\",\"harmony\",\"band-protocol\",\"augur\",\"api3\",\"1inch\",\"serum\",\"audius\"],\"variance\":{\"__ndarray__\":\"uCBWekw6yj9uhBWqMEzuP8MjefM8/vU/c5DBOAXhAkDHOgoddEH+Px+rVyyllfw/x7u37N+y/D/A7BQWx78AQPmWtvs7UQNAKROoXdOlAEABS5FqGocDQD9/oETykgVAjTu+eG8Y/j+uqV9JvGX8P8Diem84aQJA+5+vQD+C+j927HMPEDz/P4QqNCl7n/g/Brz3MYcFA0BJdvIpXcYCQJENNcSoYv4/\",\"dtype\":\"float64\",\"order\":\"little\",\"shape\":[21]}},\"selected\":{\"id\":\"4278\"},\"selection_policy\":{\"id\":\"4295\"}},\"id\":\"4277\",\"type\":\"ColumnDataSource\"},{\"attributes\":{},\"id\":\"4300\",\"type\":\"Selection\"},{\"attributes\":{\"fill_color\":{\"value\":\"#fc4f30\"},\"line_color\":{\"value\":\"#fc4f30\"},\"size\":{\"value\":5.477225575051661},\"x\":{\"field\":\"annual_return\"},\"y\":{\"field\":\"variance\"}},\"id\":\"4280\",\"type\":\"Scatter\"},{\"attributes\":{\"data_source\":{\"id\":\"4299\"},\"glyph\":{\"id\":\"4302\"},\"hover_glyph\":null,\"muted_glyph\":{\"id\":\"4304\"},\"nonselection_glyph\":{\"id\":\"4303\"},\"selection_glyph\":{\"id\":\"4322\"},\"view\":{\"id\":\"4306\"}},\"id\":\"4305\",\"type\":\"GlyphRenderer\"},{\"attributes\":{\"data\":{\"annual_return\":{\"__ndarray__\":\"IeRa4/vhEkBWlS9kdZIKQPaJQJVNAwxASnHvfrYVE0CW4Rcx5dcBQJqboFOgMCBADhXgOvCXEkDjSHgb1koUQGRGjcQ2wQVAbO3qVIkfHEB/04QKddMDQA==\",\"dtype\":\"float64\",\"order\":\"little\",\"shape\":[11]},\"crypto_cluster\":[2,2,2,2,2,2,2,2,2,2,2],\"index\":[\"illuvium\",\"ethereum\",\"solana\",\"terra-luna\",\"axie-infinity\",\"compound-governance-token\",\"flow\",\"aave\",\"maker\",\"arweave\",\"bonfida\"],\"variance\":{\"__ndarray__\":\"dElkSJe1AkAS+tJAvFX4P1ah3zChFgFAITdDcb5yAUDotrCFvEQDQAmGKgyrDgBAAXMpVw3cA0BJ9PFR/EABQLTbTJPyEvg/p3Dtu+kOAUD8em77QYT/Pw==\",\"dtype\":\"float64\",\"order\":\"little\",\"shape\":[11]}},\"selected\":{\"id\":\"4300\"},\"selection_policy\":{\"id\":\"4319\"}},\"id\":\"4299\",\"type\":\"ColumnDataSource\"},{\"attributes\":{\"overlay\":{\"id\":\"4242\"}},\"id\":\"4240\",\"type\":\"BoxZoomTool\"},{\"attributes\":{\"source\":{\"id\":\"4277\"}},\"id\":\"4284\",\"type\":\"CDSView\"},{\"attributes\":{\"fill_alpha\":{\"value\":0.1},\"fill_color\":{\"value\":\"#e5ae38\"},\"line_alpha\":{\"value\":0.1},\"line_color\":{\"value\":\"#e5ae38\"},\"size\":{\"value\":5.477225575051661},\"x\":{\"field\":\"annual_return\"},\"y\":{\"field\":\"variance\"}},\"id\":\"4303\",\"type\":\"Scatter\"},{\"attributes\":{\"angle\":{\"value\":0.0},\"fill_alpha\":{\"value\":1.0},\"fill_color\":{\"value\":\"#fc4f30\"},\"hatch_alpha\":{\"value\":1.0},\"hatch_color\":{\"value\":\"black\"},\"hatch_scale\":{\"value\":12.0},\"hatch_weight\":{\"value\":1.0},\"line_alpha\":{\"value\":1.0},\"line_cap\":{\"value\":\"butt\"},\"line_color\":{\"value\":\"#fc4f30\"},\"line_dash\":{\"value\":[]},\"line_dash_offset\":{\"value\":0},\"line_join\":{\"value\":\"bevel\"},\"line_width\":{\"value\":1},\"marker\":{\"value\":\"circle\"},\"size\":{\"value\":5.477225575051661},\"x\":{\"field\":\"annual_return\"},\"y\":{\"field\":\"variance\"}},\"id\":\"4298\",\"type\":\"Scatter\"},{\"attributes\":{\"data_source\":{\"id\":\"4277\"},\"glyph\":{\"id\":\"4280\"},\"hover_glyph\":null,\"muted_glyph\":{\"id\":\"4282\"},\"nonselection_glyph\":{\"id\":\"4281\"},\"selection_glyph\":{\"id\":\"4298\"},\"view\":{\"id\":\"4284\"}},\"id\":\"4283\",\"type\":\"GlyphRenderer\"},{\"attributes\":{\"fill_alpha\":{\"value\":0.2},\"fill_color\":{\"value\":\"#6d904f\"},\"line_alpha\":{\"value\":0.2},\"line_color\":{\"value\":\"#6d904f\"},\"size\":{\"value\":5.477225575051661},\"x\":{\"field\":\"annual_return\"},\"y\":{\"field\":\"variance\"}},\"id\":\"4328\",\"type\":\"Scatter\"},{\"attributes\":{\"margin\":[5,5,5,5],\"name\":\"HSpacer09123\",\"sizing_mode\":\"stretch_width\"},\"id\":\"4213\",\"type\":\"Spacer\"},{\"attributes\":{\"source\":{\"id\":\"4299\"}},\"id\":\"4306\",\"type\":\"CDSView\"},{\"attributes\":{\"label\":{\"value\":\"1\"},\"renderers\":[{\"id\":\"4283\"}]},\"id\":\"4297\",\"type\":\"LegendItem\"},{\"attributes\":{},\"id\":\"4241\",\"type\":\"ResetTool\"},{\"attributes\":{},\"id\":\"4238\",\"type\":\"PanTool\"},{\"attributes\":{\"label\":{\"value\":\"2\"},\"renderers\":[{\"id\":\"4305\"}]},\"id\":\"4321\",\"type\":\"LegendItem\"},{\"attributes\":{\"fill_alpha\":{\"value\":0.2},\"fill_color\":{\"value\":\"#e5ae38\"},\"line_alpha\":{\"value\":0.2},\"line_color\":{\"value\":\"#e5ae38\"},\"size\":{\"value\":5.477225575051661},\"x\":{\"field\":\"annual_return\"},\"y\":{\"field\":\"variance\"}},\"id\":\"4304\",\"type\":\"Scatter\"},{\"attributes\":{},\"id\":\"4345\",\"type\":\"UnionRenderers\"},{\"attributes\":{\"source\":{\"id\":\"4323\"}},\"id\":\"4330\",\"type\":\"CDSView\"},{\"attributes\":{\"label\":{\"value\":\"0\"},\"renderers\":[{\"id\":\"4262\"}]},\"id\":\"4275\",\"type\":\"LegendItem\"},{\"attributes\":{\"axis\":{\"id\":\"4229\"},\"grid_line_color\":null,\"ticker\":null},\"id\":\"4232\",\"type\":\"Grid\"},{\"attributes\":{\"data\":{\"annual_return\":{\"__ndarray__\":\"swVzl7FiI0AOwGA+EvgjQIMB+xgami9AgQQB1YM7J0BdSnM8HBMwQA==\",\"dtype\":\"float64\",\"order\":\"little\",\"shape\":[5]},\"crypto_cluster\":[0,0,0,0,0],\"index\":[\"spell-token\",\"hackenai\",\"flux\",\"uniswap\",\"lido-dao\"],\"variance\":{\"__ndarray__\":\"6qxWpAfM/z+DtES0inUGQM99XcMygQVAFXEDv9V+D0B7pHbVs7kRQA==\",\"dtype\":\"float64\",\"order\":\"little\",\"shape\":[5]}},\"selected\":{\"id\":\"4257\"},\"selection_policy\":{\"id\":\"4272\"}},\"id\":\"4256\",\"type\":\"ColumnDataSource\"},{\"attributes\":{\"callback\":null,\"renderers\":[{\"id\":\"4262\"},{\"id\":\"4283\"},{\"id\":\"4305\"},{\"id\":\"4329\"}],\"tags\":[\"hv_created\"],\"tooltips\":[[\"crypto_cluster\",\"@{crypto_cluster}\"],[\"annual_return\",\"@{annual_return}\"],[\"variance\",\"@{variance}\"],[\"index\",\"@{index}\"]]},\"id\":\"4216\",\"type\":\"HoverTool\"},{\"attributes\":{\"click_policy\":\"mute\",\"items\":[{\"id\":\"4275\"},{\"id\":\"4297\"},{\"id\":\"4321\"},{\"id\":\"4347\"}],\"location\":[0,0],\"title\":\"crypto_cluster\"},\"id\":\"4274\",\"type\":\"Legend\"},{\"attributes\":{\"axis_label\":\"annual_return\",\"formatter\":{\"id\":\"4252\"},\"major_label_policy\":{\"id\":\"4250\"},\"ticker\":{\"id\":\"4230\"}},\"id\":\"4229\",\"type\":\"LinearAxis\"},{\"attributes\":{\"bottom_units\":\"screen\",\"fill_alpha\":0.5,\"fill_color\":\"lightgrey\",\"left_units\":\"screen\",\"level\":\"overlay\",\"line_alpha\":1.0,\"line_color\":\"black\",\"line_dash\":[4,4],\"line_width\":2,\"right_units\":\"screen\",\"syncable\":false,\"top_units\":\"screen\"},\"id\":\"4242\",\"type\":\"BoxAnnotation\"},{\"attributes\":{\"children\":[{\"id\":\"4213\"},{\"id\":\"4220\"},{\"id\":\"4493\"}],\"margin\":[0,0,0,0],\"name\":\"Row09119\",\"tags\":[\"embedded\"]},\"id\":\"4212\",\"type\":\"Row\"},{\"attributes\":{},\"id\":\"4319\",\"type\":\"UnionRenderers\"},{\"attributes\":{},\"id\":\"4255\",\"type\":\"BasicTickFormatter\"},{\"attributes\":{},\"id\":\"4324\",\"type\":\"Selection\"},{\"attributes\":{\"data_source\":{\"id\":\"4323\"},\"glyph\":{\"id\":\"4326\"},\"hover_glyph\":null,\"muted_glyph\":{\"id\":\"4328\"},\"nonselection_glyph\":{\"id\":\"4327\"},\"selection_glyph\":{\"id\":\"4348\"},\"view\":{\"id\":\"4330\"}},\"id\":\"4329\",\"type\":\"GlyphRenderer\"},{\"attributes\":{\"below\":[{\"id\":\"4229\"}],\"center\":[{\"id\":\"4232\"},{\"id\":\"4236\"}],\"height\":300,\"left\":[{\"id\":\"4233\"}],\"margin\":[5,5,5,5],\"min_border_bottom\":10,\"min_border_left\":10,\"min_border_right\":10,\"min_border_top\":10,\"renderers\":[{\"id\":\"4262\"},{\"id\":\"4283\"},{\"id\":\"4305\"},{\"id\":\"4329\"}],\"right\":[{\"id\":\"4274\"}],\"sizing_mode\":\"fixed\",\"title\":{\"id\":\"4221\"},\"toolbar\":{\"id\":\"4243\"},\"width\":700,\"x_range\":{\"id\":\"4214\"},\"x_scale\":{\"id\":\"4225\"},\"y_range\":{\"id\":\"4215\"},\"y_scale\":{\"id\":\"4227\"}},\"id\":\"4220\",\"subtype\":\"Figure\",\"type\":\"Plot\"},{\"attributes\":{\"axis\":{\"id\":\"4233\"},\"dimension\":1,\"grid_line_color\":null,\"ticker\":null},\"id\":\"4236\",\"type\":\"Grid\"},{\"attributes\":{\"fill_alpha\":{\"value\":0.1},\"fill_color\":{\"value\":\"#6d904f\"},\"line_alpha\":{\"value\":0.1},\"line_color\":{\"value\":\"#6d904f\"},\"size\":{\"value\":5.477225575051661},\"x\":{\"field\":\"annual_return\"},\"y\":{\"field\":\"variance\"}},\"id\":\"4327\",\"type\":\"Scatter\"},{\"attributes\":{},\"id\":\"4230\",\"type\":\"BasicTicker\"},{\"attributes\":{\"margin\":[5,5,5,5],\"name\":\"HSpacer09124\",\"sizing_mode\":\"stretch_width\"},\"id\":\"4493\",\"type\":\"Spacer\"},{\"attributes\":{},\"id\":\"4239\",\"type\":\"WheelZoomTool\"},{\"attributes\":{},\"id\":\"4252\",\"type\":\"BasicTickFormatter\"},{\"attributes\":{},\"id\":\"4225\",\"type\":\"LinearScale\"},{\"attributes\":{\"fill_alpha\":{\"value\":0.1},\"fill_color\":{\"value\":\"#fc4f30\"},\"line_alpha\":{\"value\":0.1},\"line_color\":{\"value\":\"#fc4f30\"},\"size\":{\"value\":5.477225575051661},\"x\":{\"field\":\"annual_return\"},\"y\":{\"field\":\"variance\"}},\"id\":\"4281\",\"type\":\"Scatter\"},{\"attributes\":{\"data\":{\"annual_return\":{\"__ndarray__\":\"f4/RP2HOKcB/lxYRNQYfwO0CT+PQ0CbAIO4yh89gGsDyaHryzO0WwBpCo0X6PhzA825xZnsKIMDvNt0VaaggwE4jFA1haBvAMnSXSQRFF8ApNHmr/koawAxQ885dQxbA6gc3Q4zwGsB/pIVgfDAdwOIygWdPEiHA\",\"dtype\":\"float64\",\"order\":\"little\",\"shape\":[15]},\"crypto_cluster\":[3,3,3,3,3,3,3,3,3,3,3,3,3,3,3],\"index\":[\"polyswarm\",\"polkadot\",\"avalanche-2\",\"cosmos\",\"filecoin\",\"stellar\",\"algorand\",\"zilliqa\",\"chainlink\",\"huobi-token\",\"yearn-finance\",\"bitcoin-gold\",\"curve-dao-token\",\"dia-data\",\"antimatter\"],\"variance\":{\"__ndarray__\":\"5hiuE/Ob+D/CB2s1asr9Pw3GoqMT3fo/vGDInChw/z86fq4q40L7P5ABjy41hfs/Otfxxvjz9j9M6QdmwND7P3XYQkXXZv4/JyogWhkZ9j/vlcqB+u78P3yihMjWZvg/2rjkXZwmAUAQepOVvrD+P8ly9mA0W/k/\",\"dtype\":\"float64\",\"order\":\"little\",\"shape\":[15]}},\"selected\":{\"id\":\"4324\"},\"selection_policy\":{\"id\":\"4345\"}},\"id\":\"4323\",\"type\":\"ColumnDataSource\"},{\"attributes\":{\"fill_color\":{\"value\":\"#6d904f\"},\"line_color\":{\"value\":\"#6d904f\"},\"size\":{\"value\":5.477225575051661},\"x\":{\"field\":\"annual_return\"},\"y\":{\"field\":\"variance\"}},\"id\":\"4326\",\"type\":\"Scatter\"},{\"attributes\":{},\"id\":\"4250\",\"type\":\"AllLabels\"},{\"attributes\":{},\"id\":\"4237\",\"type\":\"SaveTool\"},{\"attributes\":{\"active_multi\":null,\"tools\":[{\"id\":\"4216\"},{\"id\":\"4237\"},{\"id\":\"4238\"},{\"id\":\"4239\"},{\"id\":\"4240\"},{\"id\":\"4241\"}]},\"id\":\"4243\",\"type\":\"Toolbar\"},{\"attributes\":{\"label\":{\"value\":\"3\"},\"renderers\":[{\"id\":\"4329\"}]},\"id\":\"4347\",\"type\":\"LegendItem\"},{\"attributes\":{},\"id\":\"4257\",\"type\":\"Selection\"},{\"attributes\":{},\"id\":\"4272\",\"type\":\"UnionRenderers\"},{\"attributes\":{\"fill_alpha\":{\"value\":0.1},\"fill_color\":{\"value\":\"#30a2da\"},\"line_alpha\":{\"value\":0.1},\"line_color\":{\"value\":\"#30a2da\"},\"size\":{\"value\":5.477225575051661},\"x\":{\"field\":\"annual_return\"},\"y\":{\"field\":\"variance\"}},\"id\":\"4260\",\"type\":\"Scatter\"},{\"attributes\":{\"angle\":{\"value\":0.0},\"fill_alpha\":{\"value\":1.0},\"fill_color\":{\"value\":\"#6d904f\"},\"hatch_alpha\":{\"value\":1.0},\"hatch_color\":{\"value\":\"black\"},\"hatch_scale\":{\"value\":12.0},\"hatch_weight\":{\"value\":1.0},\"line_alpha\":{\"value\":1.0},\"line_cap\":{\"value\":\"butt\"},\"line_color\":{\"value\":\"#6d904f\"},\"line_dash\":{\"value\":[]},\"line_dash_offset\":{\"value\":0},\"line_join\":{\"value\":\"bevel\"},\"line_width\":{\"value\":1},\"marker\":{\"value\":\"circle\"},\"size\":{\"value\":5.477225575051661},\"x\":{\"field\":\"annual_return\"},\"y\":{\"field\":\"variance\"}},\"id\":\"4348\",\"type\":\"Scatter\"},{\"attributes\":{\"end\":4.853994667939702,\"reset_end\":4.853994667939702,\"reset_start\":-0.21774045737132003,\"start\":-0.21774045737132003,\"tags\":[[[\"variance\",\"variance\",null]]]},\"id\":\"4215\",\"type\":\"Range1d\"},{\"attributes\":{\"data_source\":{\"id\":\"4256\"},\"glyph\":{\"id\":\"4259\"},\"hover_glyph\":null,\"muted_glyph\":{\"id\":\"4261\"},\"nonselection_glyph\":{\"id\":\"4260\"},\"selection_glyph\":{\"id\":\"4276\"},\"view\":{\"id\":\"4263\"}},\"id\":\"4262\",\"type\":\"GlyphRenderer\"},{\"attributes\":{},\"id\":\"4227\",\"type\":\"LinearScale\"},{\"attributes\":{},\"id\":\"4278\",\"type\":\"Selection\"},{\"attributes\":{\"text_color\":\"black\",\"text_font_size\":\"12pt\"},\"id\":\"4221\",\"type\":\"Title\"},{\"attributes\":{\"fill_alpha\":{\"value\":0.2},\"fill_color\":{\"value\":\"#30a2da\"},\"line_alpha\":{\"value\":0.2},\"line_color\":{\"value\":\"#30a2da\"},\"size\":{\"value\":5.477225575051661},\"x\":{\"field\":\"annual_return\"},\"y\":{\"field\":\"variance\"}},\"id\":\"4261\",\"type\":\"Scatter\"},{\"attributes\":{\"source\":{\"id\":\"4256\"}},\"id\":\"4263\",\"type\":\"CDSView\"},{\"attributes\":{},\"id\":\"4234\",\"type\":\"BasicTicker\"},{\"attributes\":{\"fill_color\":{\"value\":\"#30a2da\"},\"line_color\":{\"value\":\"#30a2da\"},\"size\":{\"value\":5.477225575051661},\"x\":{\"field\":\"annual_return\"},\"y\":{\"field\":\"variance\"}},\"id\":\"4259\",\"type\":\"Scatter\"},{\"attributes\":{\"axis_label\":\"variance\",\"formatter\":{\"id\":\"4255\"},\"major_label_policy\":{\"id\":\"4253\"},\"ticker\":{\"id\":\"4234\"}},\"id\":\"4233\",\"type\":\"LinearAxis\"},{\"attributes\":{},\"id\":\"4253\",\"type\":\"AllLabels\"},{\"attributes\":{\"end\":17.3165525407482,\"reset_end\":17.3165525407482,\"reset_start\":-14.144988644744505,\"start\":-14.144988644744505,\"tags\":[[[\"annual_return\",\"annual_return\",null]]]},\"id\":\"4214\",\"type\":\"Range1d\"}],\"root_ids\":[\"4212\"]},\"title\":\"Bokeh Application\",\"version\":\"2.3.3\"}};\n",
       "    var render_items = [{\"docid\":\"1d9fb8e6-ebe6-465c-978e-16b8497248e4\",\"root_ids\":[\"4212\"],\"roots\":{\"4212\":\"9f9d20ed-6f21-4234-9a99-f80cd544518f\"}}];\n",
       "    root.Bokeh.embed.embed_items_notebook(docs_json, render_items);\n",
       "  }\n",
       "  if (root.Bokeh !== undefined && root.Bokeh.Panel !== undefined) {\n",
       "    embed_document(root);\n",
       "  } else {\n",
       "    var attempts = 0;\n",
       "    var timer = setInterval(function(root) {\n",
       "      if (root.Bokeh !== undefined && root.Bokeh.Panel !== undefined) {\n",
       "        clearInterval(timer);\n",
       "        embed_document(root);\n",
       "      } else if (document.readyState == \"complete\") {\n",
       "        attempts++;\n",
       "        if (attempts > 200) {\n",
       "          clearInterval(timer);\n",
       "          console.log(\"Bokeh: ERROR: Unable to run BokehJS code because BokehJS library is missing\");\n",
       "        }\n",
       "      }\n",
       "    }, 25, root)\n",
       "  }\n",
       "})(window);</script>"
      ],
      "text/plain": [
       ":NdOverlay   [crypto_cluster]\n",
       "   :Scatter   [annual_return]   (variance,index)"
      ]
     },
     "execution_count": 46,
     "metadata": {
      "application/vnd.holoviews_exec.v0+json": {
       "id": "4212"
      }
     },
     "output_type": "execute_result"
    }
   ],
   "source": [
    "# Regulatory news clustering plot\n",
    "regulatory_news = get_kmeans_plot(combined_regs, 4)\n",
    "regulatory_news"
   ]
  },
  {
   "cell_type": "code",
   "execution_count": null,
   "id": "f737f020-ace6-4cc1-9c36-576202c98202",
   "metadata": {},
   "outputs": [],
   "source": []
  }
 ],
 "metadata": {
  "kernelspec": {
   "display_name": "Python 3",
   "language": "python",
   "name": "python3"
  },
  "language_info": {
   "codemirror_mode": {
    "name": "ipython",
    "version": 3
   },
   "file_extension": ".py",
   "mimetype": "text/x-python",
   "name": "python",
   "nbconvert_exporter": "python",
   "pygments_lexer": "ipython3",
   "version": "3.7.10"
  }
 },
 "nbformat": 4,
 "nbformat_minor": 5
}
